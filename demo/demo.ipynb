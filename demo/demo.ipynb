{
 "cells": [
  {
   "cell_type": "markdown",
   "metadata": {},
   "source": [
    "# Initialization"
   ]
  },
  {
   "cell_type": "markdown",
   "metadata": {},
   "source": [
    "## Import libraries"
   ]
  },
  {
   "cell_type": "code",
   "execution_count": 1,
   "metadata": {},
   "outputs": [],
   "source": [
    "import os\n",
    "import eyelinkio\n",
    "import pandas as pd\n",
    "import sys"
   ]
  },
  {
   "cell_type": "markdown",
   "metadata": {},
   "source": [
    "## Import `visualeyes`"
   ]
  },
  {
   "cell_type": "code",
   "execution_count": 2,
   "metadata": {},
   "outputs": [],
   "source": [
    "# get the current working directory (location of the notebook)\n",
    "notebook_dir = os.getcwd()\n",
    "\n",
    "# path to the visualeyes package\n",
    "visualeyes_path = os.path.abspath(os.path.join(notebook_dir, \"..\")) # Go up one directory\n",
    "\n",
    "# add the path to sys.path\n",
    "if visualeyes_path not in sys.path:\n",
    "    sys.path.append(visualeyes_path)\n",
    "\n",
    "# import visualeyes\n",
    "import visualeyes"
   ]
  },
  {
   "cell_type": "markdown",
   "metadata": {},
   "source": [
    "## Fetch Example Data"
   ]
  },
  {
   "cell_type": "code",
   "execution_count": 3,
   "metadata": {},
   "outputs": [],
   "source": [
    "# define the path to the edf file\n",
    "current_path = os.getcwd()\n",
    "data_dir = os.path.abspath(os.path.join(current_path, \"..\", \"data\"))\n",
    "edf_path = os.path.join(data_dir, 'TG_2015.EDF')"
   ]
  },
  {
   "cell_type": "markdown",
   "metadata": {},
   "source": [
    "# Analysis"
   ]
  },
  {
   "cell_type": "markdown",
   "metadata": {},
   "source": [
    "## Convert edf file to pandas dataframes"
   ]
  },
  {
   "cell_type": "code",
   "execution_count": 4,
   "metadata": {},
   "outputs": [
    {
     "name": "stdout",
     "output_type": "stream",
     "text": [
      "loadEvents = 1\n",
      "setTrial End:  END\n",
      "loadEvents = 1\n"
     ]
    }
   ],
   "source": [
    "# read the edf file\n",
    "edf = eyelinkio.read_edf(edf_path)\n",
    "\n",
    "# convert the edf file to a dicitionary of pandas dataframes\n",
    "edf_dfs = edf.to_pandas()"
   ]
  },
  {
   "cell_type": "markdown",
   "metadata": {},
   "source": [
    "## Demo 1: visualize data quality of the first 300ms into a trial"
   ]
  },
  {
   "cell_type": "code",
   "execution_count": 10,
   "metadata": {},
   "outputs": [],
   "source": [
    "# get all data\n",
    "all_data = edf_dfs['samples']\n",
    "\n",
    "# manually add a time column to all_data\n",
    "all_data['time'] = edf['times']\n",
    "\n",
    "# get trial data\n",
    "trial_data = edf_dfs['discrete']['trials']"
   ]
  },
  {
   "cell_type": "code",
   "execution_count": 15,
   "metadata": {},
   "outputs": [
    {
     "data": {
      "text/html": [
       "<div>\n",
       "<style scoped>\n",
       "    .dataframe tbody tr th:only-of-type {\n",
       "        vertical-align: middle;\n",
       "    }\n",
       "\n",
       "    .dataframe tbody tr th {\n",
       "        vertical-align: top;\n",
       "    }\n",
       "\n",
       "    .dataframe thead th {\n",
       "        text-align: right;\n",
       "    }\n",
       "</style>\n",
       "<table border=\"1\" class=\"dataframe\">\n",
       "  <thead>\n",
       "    <tr style=\"text-align: right;\">\n",
       "      <th></th>\n",
       "      <th>xpos</th>\n",
       "      <th>ypos</th>\n",
       "      <th>ps</th>\n",
       "      <th>time</th>\n",
       "      <th>epoch_index</th>\n",
       "    </tr>\n",
       "  </thead>\n",
       "  <tbody>\n",
       "    <tr>\n",
       "      <th>0</th>\n",
       "      <td>599.200012</td>\n",
       "      <td>452.500000</td>\n",
       "      <td>510.0</td>\n",
       "      <td>0.000</td>\n",
       "      <td>0</td>\n",
       "    </tr>\n",
       "    <tr>\n",
       "      <th>1</th>\n",
       "      <td>599.500000</td>\n",
       "      <td>454.200012</td>\n",
       "      <td>511.0</td>\n",
       "      <td>0.002</td>\n",
       "      <td>0</td>\n",
       "    </tr>\n",
       "    <tr>\n",
       "      <th>2</th>\n",
       "      <td>600.000000</td>\n",
       "      <td>455.899994</td>\n",
       "      <td>511.0</td>\n",
       "      <td>0.004</td>\n",
       "      <td>0</td>\n",
       "    </tr>\n",
       "    <tr>\n",
       "      <th>3</th>\n",
       "      <td>600.400024</td>\n",
       "      <td>457.299988</td>\n",
       "      <td>512.0</td>\n",
       "      <td>0.006</td>\n",
       "      <td>0</td>\n",
       "    </tr>\n",
       "    <tr>\n",
       "      <th>4</th>\n",
       "      <td>600.700012</td>\n",
       "      <td>459.100006</td>\n",
       "      <td>513.0</td>\n",
       "      <td>0.008</td>\n",
       "      <td>0</td>\n",
       "    </tr>\n",
       "    <tr>\n",
       "      <th>...</th>\n",
       "      <td>...</td>\n",
       "      <td>...</td>\n",
       "      <td>...</td>\n",
       "      <td>...</td>\n",
       "      <td>...</td>\n",
       "    </tr>\n",
       "    <tr>\n",
       "      <th>664939</th>\n",
       "      <td>773.099976</td>\n",
       "      <td>545.200012</td>\n",
       "      <td>147.0</td>\n",
       "      <td>1329.878</td>\n",
       "      <td>89</td>\n",
       "    </tr>\n",
       "    <tr>\n",
       "      <th>664940</th>\n",
       "      <td>773.000000</td>\n",
       "      <td>545.700012</td>\n",
       "      <td>147.0</td>\n",
       "      <td>1329.880</td>\n",
       "      <td>89</td>\n",
       "    </tr>\n",
       "    <tr>\n",
       "      <th>664941</th>\n",
       "      <td>773.000000</td>\n",
       "      <td>546.200012</td>\n",
       "      <td>148.0</td>\n",
       "      <td>1329.882</td>\n",
       "      <td>89</td>\n",
       "    </tr>\n",
       "    <tr>\n",
       "      <th>664942</th>\n",
       "      <td>773.099976</td>\n",
       "      <td>546.799988</td>\n",
       "      <td>148.0</td>\n",
       "      <td>1329.884</td>\n",
       "      <td>89</td>\n",
       "    </tr>\n",
       "    <tr>\n",
       "      <th>664943</th>\n",
       "      <td>773.299988</td>\n",
       "      <td>547.299988</td>\n",
       "      <td>148.0</td>\n",
       "      <td>1329.886</td>\n",
       "      <td>89</td>\n",
       "    </tr>\n",
       "  </tbody>\n",
       "</table>\n",
       "<p>13568 rows × 5 columns</p>\n",
       "</div>"
      ],
      "text/plain": [
       "              xpos        ypos     ps      time  epoch_index\n",
       "0       599.200012  452.500000  510.0     0.000            0\n",
       "1       599.500000  454.200012  511.0     0.002            0\n",
       "2       600.000000  455.899994  511.0     0.004            0\n",
       "3       600.400024  457.299988  512.0     0.006            0\n",
       "4       600.700012  459.100006  513.0     0.008            0\n",
       "...            ...         ...    ...       ...          ...\n",
       "664939  773.099976  545.200012  147.0  1329.878           89\n",
       "664940  773.000000  545.700012  147.0  1329.880           89\n",
       "664941  773.000000  546.200012  148.0  1329.882           89\n",
       "664942  773.099976  546.799988  148.0  1329.884           89\n",
       "664943  773.299988  547.299988  148.0  1329.886           89\n",
       "\n",
       "[13568 rows x 5 columns]"
      ]
     },
     "execution_count": 15,
     "metadata": {},
     "output_type": "execute_result"
    }
   ],
   "source": [
    "# epoch the first 300ms of every trial\n",
    "trial_start = trial_data['stime'].values\n",
    "duration = 300/1000 # 300ms = 0.3s\n",
    "\n",
    "# epoch the data\n",
    "epochs, epoched_data = visualeyes.epoch_data(all_data, trial_start, duration)\n",
    "epoched_data"
   ]
  },
  {
   "cell_type": "code",
   "execution_count": null,
   "metadata": {},
   "outputs": [],
   "source": []
  }
 ],
 "metadata": {
  "kernelspec": {
   "display_name": "vizeyes",
   "language": "python",
   "name": "python3"
  },
  "language_info": {
   "codemirror_mode": {
    "name": "ipython",
    "version": 3
   },
   "file_extension": ".py",
   "mimetype": "text/x-python",
   "name": "python",
   "nbconvert_exporter": "python",
   "pygments_lexer": "ipython3",
   "version": "3.13.1"
  }
 },
 "nbformat": 4,
 "nbformat_minor": 2
}
