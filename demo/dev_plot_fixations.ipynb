{
 "cells": [
  {
   "cell_type": "code",
   "execution_count": 1,
   "metadata": {},
   "outputs": [],
   "source": [
    "import os\n",
    "import pandas as pd\n",
    "import matplotlib.pyplot as plt\n",
    "import eyelinkio\n",
    "import numpy as np\n",
    "from eyelinkio import read_edf\n",
    "import ctypes\n",
    "from define_aoi import define_aoi"
   ]
  },
  {
   "cell_type": "code",
   "execution_count": 2,
   "metadata": {},
   "outputs": [],
   "source": [
    "# enter file path\n",
    "edf_file_path = '/Users/lydia/Documents/TG_2011.edf'\n",
    "asc_file_path = '/Users/lydia/Documents/TG_2011.asc'"
   ]
  },
  {
   "cell_type": "code",
   "execution_count": 3,
   "metadata": {},
   "outputs": [
    {
     "name": "stdout",
     "output_type": "stream",
     "text": [
      "loadEvents = 1\n",
      "setTrial End:  END\n",
      "loadEvents = 1\n"
     ]
    }
   ],
   "source": [
    "# read the edf\n",
    "edf_file = read_edf(edf_file_path)"
   ]
  },
  {
   "cell_type": "code",
   "execution_count": 4,
   "metadata": {},
   "outputs": [],
   "source": [
    "df = edf_file.to_pandas()"
   ]
  },
  {
   "cell_type": "code",
   "execution_count": 6,
   "metadata": {},
   "outputs": [],
   "source": [
    "screen_width = edf_file['info']['screen_coords'][0]\n",
    "screen_height = edf_file['info']['screen_coords'][1]"
   ]
  },
  {
   "cell_type": "code",
   "execution_count": 36,
   "metadata": {},
   "outputs": [
    {
     "name": "stdout",
     "output_type": "stream",
     "text": [
      "412.0 612.0\n"
     ]
    }
   ],
   "source": [
    "PIXELS = 100\n",
    "x1 = screen_width/2 - PIXELS\n",
    "x2 = screen_width/2 + PIXELS\n",
    "y1 = screen_height/2 - PIXELS\n",
    "y2 = screen_height/2 + PIXELS\n",
    "\n",
    "print(y1, y2)"
   ]
  },
  {
   "cell_type": "code",
   "execution_count": 8,
   "metadata": {},
   "outputs": [],
   "source": [
    "SHAPE = 'rectangle'"
   ]
  },
  {
   "cell_type": "code",
   "execution_count": 9,
   "metadata": {},
   "outputs": [],
   "source": [
    "aoi_parameters = [{'shape': SHAPE, 'coordinates': (x1, y1, x2, y2)}]\n",
    "# print(aoi_parameters)\n",
    "aoi_mask = define_aoi(screen_width, screen_height, aoi_parameters)"
   ]
  },
  {
   "cell_type": "code",
   "execution_count": 10,
   "metadata": {},
   "outputs": [
    {
     "data": {
      "image/png": "[encoded data removed]",
      "text/plain": [
       "<Figure size 640x480 with 1 Axes>"
      ]
     },
     "metadata": {},
     "output_type": "display_data"
    }
   ],
   "source": [
    "plt.imshow(aoi_mask, cmap='gray')\n",
    "plt.title(\"AOI Mask\")\n",
    "# plt.gca().set_ylim(plt.gca().get_ylim()[::-1])\n",
    "plt.gca().xaxis.tick_top()\n",
    "# plt.savefig('AOI Mask.png')\n",
    "plt.show()"
   ]
  },
  {
   "cell_type": "code",
   "execution_count": null,
   "metadata": {},
   "outputs": [],
   "source": [
    "df_trials = df['discrete']['trials']\n",
    "df_fixations = df['discrete']['fixations']\n",
    "\n",
    "ratios_fixations_within = []\n",
    "\n",
    "for row_idx, trial in df_trials.iterrows():\n",
    "    print(f'trial indx: {row_idx}')\n",
    "    trial_stime = trial['stime']\n",
    "    trial_etime = trial['etime']\n",
    "\n",
    "    trial_fixations = df_fixations[(df_fixations['stime'] >= trial_stime) & (df_fixations['etime'] <= trial_etime)]\n",
    "\n",
    "    x_coor = trial_fixations['axp']\n",
    "    y_coor = trial_fixations['ayp']\n",
    "\n",
    "    num_fixations = x_coor.shape[0]\n",
    "\n",
    "    aoi_mask = define_aoi(screen_width, screen_height, aoi_parameters)\n",
    "\n",
    "    plt.imshow(aoi_mask, cmap='gray')\n",
    "    plt.title(\"AOI Mask\")\n",
    "    # plt.gca().set_ylim(plt.gca().get_ylim()[::-1])\n",
    "    plt.gca().xaxis.tick_top()\n",
    "    \n",
    "    plt.scatter(x_coor, y_coor, color='skyblue', marker='x', s=15)\n",
    "    # plt.savefig('AOI Mask.png')\n",
    "    plt.show()\n",
    "\n",
    "    fixations_within_aoi = 0\n",
    "\n",
    "    for x,y in zip(x_coor, y_coor):\n",
    "\n",
    "        if (x1 <= x <= x2) and (y1 <= y <= y2):\n",
    "            fixations_within_aoi += 1\n",
    "            \n",
    "            trial_percentage = 100* fixations_within_aoi/num_fixations\n",
    "            \n",
    "    ratios_fixations_within.append(trial_percentage)\n",
    "    "
   ]
  },
  {
   "cell_type": "code",
   "execution_count": 50,
   "metadata": {},
   "outputs": [
    {
     "name": "stdout",
     "output_type": "stream",
     "text": [
      "[46.0, 34.883720930232556, 41.666666666666664, 35.294117647058826, 39.02439024390244, 46.666666666666664, 42.5531914893617, 37.77777777777778, 48.57142857142857, 40.42553191489362, 39.02439024390244, 28.571428571428573, 41.86046511627907, 33.333333333333336, 38.46153846153846, 53.48837209302326, 40.0, 37.142857142857146, 47.5, 44.18604651162791, 45.0, 47.5, 45.833333333333336, 51.351351351351354, 45.714285714285715, 35.714285714285715, 50.98039215686274, 26.31578947368421, 53.333333333333336, 57.142857142857146, 60.0, 69.23076923076923, 20.0, 52.63157894736842, 64.28571428571429, 57.142857142857146, 60.0, 79.16666666666667, 66.66666666666667, 72.72727272727273, 60.0, 81.81818181818181, 80.0, 57.142857142857146, 27.586206896551722, 50.0, 35.8974358974359, 26.19047619047619, 36.58536585365854, 40.54054054054054, 34.285714285714285, 32.55813953488372, 31.914893617021278, 33.333333333333336, 43.24324324324324, 54.285714285714285, 30.232558139534884, 42.857142857142854, 25.0, 40.476190476190474, 31.428571428571427, 40.54054054054054, 42.42424242424242, 37.142857142857146, 42.857142857142854, 37.2093023255814, 43.58974358974359, 51.111111111111114, 54.054054054054056, 44.39461883408072, 40.0, 27.272727272727273, 50.0, 66.66666666666667, 90.0, 72.72727272727273, 90.9090909090909, 66.66666666666667, 66.66666666666667, 61.53846153846154, 36.36363636363637, 40.0, 100.0, 81.81818181818181, 70.0, 61.53846153846154, 75.0, 78.57142857142857, 47.36842105263158, 28.205128205128204]\n"
     ]
    },
    {
     "ename": "AttributeError",
     "evalue": "'list' object has no attribute 'dtype'",
     "output_type": "error",
     "traceback": [
      "\u001b[0;31m---------------------------------------------------------------------------\u001b[0m",
      "\u001b[0;31mAttributeError\u001b[0m                            Traceback (most recent call last)",
      "\u001b[1;32m/Users/lydia/visualEyes/dev/components/thresholding.ipynb Cell 13\u001b[0m line \u001b[0;36m2\n\u001b[1;32m      <a href='vscode-notebook-cell:/Users/lydia/visualEyes/dev/components/thresholding.ipynb#X16sZmlsZQ%3D%3D?line=0'>1</a>\u001b[0m \u001b[39mprint\u001b[39m(trials_percentage)\n\u001b[0;32m----> <a href='vscode-notebook-cell:/Users/lydia/visualEyes/dev/components/thresholding.ipynb#X16sZmlsZQ%3D%3D?line=1'>2</a>\u001b[0m trials_percentage\u001b[39m.\u001b[39;49mdtype\n",
      "\u001b[0;31mAttributeError\u001b[0m: 'list' object has no attribute 'dtype'"
     ]
    }
   ],
   "source": [
    "print(ratios_fixations_within)"
   ]
  }
 ],
 "metadata": {
  "kernelspec": {
   "display_name": "vizeyes",
   "language": "python",
   "name": "python3"
  },
  "language_info": {
   "codemirror_mode": {
    "name": "ipython",
    "version": 3
   },
   "file_extension": ".py",
   "mimetype": "text/x-python",
   "name": "python",
   "nbconvert_exporter": "python",
   "pygments_lexer": "ipython3",
   "version": "3.13.1"
  }
 },
 "nbformat": 4,
 "nbformat_minor": 2
}
