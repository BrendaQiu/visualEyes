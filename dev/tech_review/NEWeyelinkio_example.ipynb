{
 "cells": [
  {
   "cell_type": "markdown",
   "metadata": {},
   "source": [
    "### Initialization"
   ]
  },
  {
   "cell_type": "code",
   "execution_count": 1,
   "metadata": {},
   "outputs": [],
   "source": [
    "import os\n",
    "import pandas as pd\n",
    "import matplotlib.pyplot as plt\n",
    "import numpy as np\n",
    "import eyelinkio"
   ]
  },
  {
   "cell_type": "markdown",
   "metadata": {},
   "source": [
    "### Loading `edf` file with `eyelinkio`"
   ]
  },
  {
   "cell_type": "code",
   "execution_count": 2,
   "metadata": {},
   "outputs": [
    {
     "name": "stdout",
     "output_type": "stream",
     "text": [
      "<EDF | TG_2011.edf> \n",
      "  Version: EYELINK II 1 \n",
      "  Eye: LEFT_EYE \n",
      "  Pupil unit: PUPIL_AREA \n",
      "  Sampling frequency: 500.0 Hz \n",
      "  Calibrations: 2 \n",
      "  Length: 1346.498 seconds \n",
      "\n"
     ]
    }
   ],
   "source": [
    "# define path to data\n",
    "edf_path = '/Users/baharsener/Desktop/TG_2011.edf'\n",
    "\n",
    "# read edf and print metadata\n",
    "edf = eyelinkio.read_edf(edf_path)\n",
    "print(edf)\n",
    "#thinks it is missing samples? is one eent one file?"
   ]
  },
  {
   "cell_type": "code",
   "execution_count": 3,
   "metadata": {},
   "outputs": [
    {
     "data": {
      "text/plain": [
       "dict_keys(['info', 'discrete', 'times', 'samples'])"
      ]
     },
     "execution_count": 3,
     "metadata": {},
     "output_type": "execute_result"
    }
   ],
   "source": [
    "# inpsect structure of edf\n",
    "edf.keys()"
   ]
  },
  {
   "cell_type": "code",
   "execution_count": 4,
   "metadata": {},
   "outputs": [
    {
     "data": {
      "text/plain": [
       "{'meas_date': datetime.datetime(2024, 10, 18, 10, 5, 7),\n",
       " 'version': 'EYELINK II 1',\n",
       " 'camera': 'Eyelink GL Version 1.2 Sensor=AH7',\n",
       " 'serial': 'CLG-BGB36',\n",
       " 'camera_config': 'BGB36200.SCD',\n",
       " 'sfreq': 500.0,\n",
       " 'ps_units': 'PUPIL_AREA',\n",
       " 'eye': 'LEFT_EYE',\n",
       " 'sample_fields': ['xpos', 'ypos', 'ps'],\n",
       " 'edfapi_version': '4.2.1197.0 MacOS X   standalone Sep 27 2024',\n",
       " 'screen_coords': array([1280, 1024]),\n",
       " 'calibrations': [{'onset': np.float64(0.0),\n",
       "   'eye': 'left',\n",
       "   'validation': array([( 640., 512.,  1.13,   -8.7,   42.4),\n",
       "          ( 640.,  87.,  0.76,  -17.5,  -16.6),\n",
       "          ( 640., 936.,  1.03,  -12.5,  -36.5),\n",
       "          (  77., 512.,  0.71,   -6.4,   26.4),\n",
       "          (1202., 512.,  1.53,   24.8,   48.6),\n",
       "          ( 144., 138.,  0.8 ,   10.7,   27.5),\n",
       "          (1135., 138.,  0.87,    5.2,   33.2),\n",
       "          ( 144., 885.,  0.96,    9.2,   35.4),\n",
       "          (1135., 885., 10.35, -256.1, -189.6)],\n",
       "         dtype=[('point_x', '<f8'), ('point_y', '<f8'), ('offset', '<f8'), ('diff_x', '<f8'), ('diff_y', '<f8')]),\n",
       "   'model': 'HV9'},\n",
       "  {'onset': np.float64(0.0),\n",
       "   'eye': 'left',\n",
       "   'validation': array([( 640., 512., 0.77, -20.9, -8.1), ( 640.,  87., 0.15,   3.9,  2.2),\n",
       "          ( 640., 936., 0.72, -20.2, -2.7), (  77., 512., 0.26,  -6.3,  4.9),\n",
       "          (1202., 512., 0.34,   9.6,  0. ), ( 144., 138., 0.37,   7.5, 10.2),\n",
       "          (1135., 138., 0.21,   2.2, -7.7), ( 144., 885., 0.54,  15. , -2.5),\n",
       "          (1135., 885., 0.33,  -8.2,  6.5)],\n",
       "         dtype=[('point_x', '<f8'), ('point_y', '<f8'), ('offset', '<f8'), ('diff_x', '<f8'), ('diff_y', '<f8')]),\n",
       "   'model': 'HV9'}],\n",
       " 'filename': 'TG_2011.edf'}"
      ]
     },
     "execution_count": 4,
     "metadata": {},
     "output_type": "execute_result"
    }
   ],
   "source": [
    "edf['info']"
   ]
  },
  {
   "cell_type": "markdown",
   "metadata": {},
   "source": [
    "### `edf['discrete']`"
   ]
  },
  {
   "cell_type": "code",
   "execution_count": 5,
   "metadata": {},
   "outputs": [
    {
     "data": {
      "text/plain": [
       "dict_keys(['messages', 'buttons', 'inputs', 'fixations', 'saccades', 'blinks'])"
      ]
     },
     "execution_count": 5,
     "metadata": {},
     "output_type": "execute_result"
    }
   ],
   "source": [
    "edf['discrete'].keys()\n",
    "\n",
    "#edf['discrete']['messages']: time, message\n",
    "# edf['discrete']['buttons']: time, button\n",
    "# edf['discrete']['inputs']: time, input"
   ]
  },
  {
   "cell_type": "code",
   "execution_count": 6,
   "metadata": {},
   "outputs": [
    {
     "data": {
      "text/plain": [
       "np.void((0.0, 0.01, 0.21, 662.2000122070312, 533.7999877929688), dtype=[('eye', '<f8'), ('stime', '<f8'), ('etime', '<f8'), ('axp', '<f8'), ('ayp', '<f8')])"
      ]
     },
     "execution_count": 6,
     "metadata": {},
     "output_type": "execute_result"
    }
   ],
   "source": [
    "# inspect fixation data structure\n",
    "edf['discrete']['fixations'][0] # first fixation\n",
    "# structure: eye (1=left eye), start time, end time, average x, average y"
   ]
  },
  {
   "cell_type": "code",
   "execution_count": 7,
   "metadata": {},
   "outputs": [
    {
     "data": {
      "text/plain": [
       "np.void((0.0, 2.216, 2.222), dtype=[('eye', '<f8'), ('stime', '<f8'), ('etime', '<f8')])"
      ]
     },
     "execution_count": 7,
     "metadata": {},
     "output_type": "execute_result"
    }
   ],
   "source": [
    "# inspect blink data structure\n",
    "edf['discrete']['blinks'][0] # first blink\n",
    "# structure: eye (1=left eye), start time, end time"
   ]
  },
  {
   "cell_type": "code",
   "execution_count": 8,
   "metadata": {},
   "outputs": [
    {
     "data": {
      "text/plain": [
       "np.void((0.0, 0.212, 0.25, 660.0999755859375, 530.5, 557.2999877929688, 466.29998779296875, 191.0), dtype=[('eye', '<f8'), ('stime', '<f8'), ('etime', '<f8'), ('sxp', '<f8'), ('syp', '<f8'), ('exp', '<f8'), ('eyp', '<f8'), ('pv', '<f8')])"
      ]
     },
     "execution_count": 8,
     "metadata": {},
     "output_type": "execute_result"
    }
   ],
   "source": [
    "# inspect saccade data structure\n",
    "edf['discrete']['saccades'][0] # first saccade\n",
    "# structure: eye, start time, end time, gaze start x, gaze start y, gaze end x, gaze end y, peak velocity (unit?)"
   ]
  },
  {
   "cell_type": "markdown",
   "metadata": {},
   "source": [
    "### convert `edf` to `pandas` `df`"
   ]
  },
  {
   "cell_type": "code",
   "execution_count": 9,
   "metadata": {},
   "outputs": [
    {
     "data": {
      "text/plain": [
       "dict_keys(['discrete', 'samples', 'calibrations'])"
      ]
     },
     "execution_count": 9,
     "metadata": {},
     "output_type": "execute_result"
    }
   ],
   "source": [
    "df = edf.to_pandas()\n",
    "df.keys()"
   ]
  },
  {
   "cell_type": "code",
   "execution_count": 10,
   "metadata": {},
   "outputs": [
    {
     "data": {
      "text/html": [
       "<div>\n",
       "<style scoped>\n",
       "    .dataframe tbody tr th:only-of-type {\n",
       "        vertical-align: middle;\n",
       "    }\n",
       "\n",
       "    .dataframe tbody tr th {\n",
       "        vertical-align: top;\n",
       "    }\n",
       "\n",
       "    .dataframe thead th {\n",
       "        text-align: right;\n",
       "    }\n",
       "</style>\n",
       "<table border=\"1\" class=\"dataframe\">\n",
       "  <thead>\n",
       "    <tr style=\"text-align: right;\">\n",
       "      <th></th>\n",
       "      <th>xpos</th>\n",
       "      <th>ypos</th>\n",
       "      <th>ps</th>\n",
       "    </tr>\n",
       "  </thead>\n",
       "  <tbody>\n",
       "    <tr>\n",
       "      <th>0</th>\n",
       "      <td>662.599976</td>\n",
       "      <td>527.599976</td>\n",
       "      <td>233.0</td>\n",
       "    </tr>\n",
       "    <tr>\n",
       "      <th>1</th>\n",
       "      <td>662.700012</td>\n",
       "      <td>527.799988</td>\n",
       "      <td>233.0</td>\n",
       "    </tr>\n",
       "    <tr>\n",
       "      <th>2</th>\n",
       "      <td>662.799988</td>\n",
       "      <td>528.200012</td>\n",
       "      <td>233.0</td>\n",
       "    </tr>\n",
       "    <tr>\n",
       "      <th>3</th>\n",
       "      <td>663.000000</td>\n",
       "      <td>528.599976</td>\n",
       "      <td>233.0</td>\n",
       "    </tr>\n",
       "    <tr>\n",
       "      <th>4</th>\n",
       "      <td>663.099976</td>\n",
       "      <td>529.000000</td>\n",
       "      <td>233.0</td>\n",
       "    </tr>\n",
       "  </tbody>\n",
       "</table>\n",
       "</div>"
      ],
      "text/plain": [
       "         xpos        ypos     ps\n",
       "0  662.599976  527.599976  233.0\n",
       "1  662.700012  527.799988  233.0\n",
       "2  662.799988  528.200012  233.0\n",
       "3  663.000000  528.599976  233.0\n",
       "4  663.099976  529.000000  233.0"
      ]
     },
     "execution_count": 10,
     "metadata": {},
     "output_type": "execute_result"
    }
   ],
   "source": [
    "df['samples'].head() #x, y, pupil size"
   ]
  },
  {
   "cell_type": "code",
   "execution_count": 11,
   "metadata": {},
   "outputs": [
    {
     "name": "stdout",
     "output_type": "stream",
     "text": [
      "1346.498 1346.496\n"
     ]
    }
   ],
   "source": [
    "# edf['samples'] contain all samples that were recorded during the session \n",
    "# to prove that:\n",
    "num_samples = edf['samples'].shape[1]\n",
    "sample_freq = edf['info']['sfreq']\n",
    "time = num_samples / sample_freq # time should be close/equal to the duration of the session\n",
    "print(time, edf['times'][-1])"
   ]
  },
  {
   "cell_type": "code",
   "execution_count": 12,
   "metadata": {},
   "outputs": [
    {
     "data": {
      "text/html": [
       "<div>\n",
       "<style scoped>\n",
       "    .dataframe tbody tr th:only-of-type {\n",
       "        vertical-align: middle;\n",
       "    }\n",
       "\n",
       "    .dataframe tbody tr th {\n",
       "        vertical-align: top;\n",
       "    }\n",
       "\n",
       "    .dataframe thead th {\n",
       "        text-align: right;\n",
       "    }\n",
       "</style>\n",
       "<table border=\"1\" class=\"dataframe\">\n",
       "  <thead>\n",
       "    <tr style=\"text-align: right;\">\n",
       "      <th></th>\n",
       "      <th>point_x</th>\n",
       "      <th>point_y</th>\n",
       "      <th>offset</th>\n",
       "      <th>diff_x</th>\n",
       "      <th>diff_y</th>\n",
       "      <th>eye</th>\n",
       "      <th>model</th>\n",
       "      <th>onset</th>\n",
       "    </tr>\n",
       "  </thead>\n",
       "  <tbody>\n",
       "    <tr>\n",
       "      <th>0</th>\n",
       "      <td>640.0</td>\n",
       "      <td>512.0</td>\n",
       "      <td>1.13</td>\n",
       "      <td>-8.7</td>\n",
       "      <td>42.4</td>\n",
       "      <td>left</td>\n",
       "      <td>HV9</td>\n",
       "      <td>0.0</td>\n",
       "    </tr>\n",
       "    <tr>\n",
       "      <th>1</th>\n",
       "      <td>640.0</td>\n",
       "      <td>87.0</td>\n",
       "      <td>0.76</td>\n",
       "      <td>-17.5</td>\n",
       "      <td>-16.6</td>\n",
       "      <td>left</td>\n",
       "      <td>HV9</td>\n",
       "      <td>0.0</td>\n",
       "    </tr>\n",
       "    <tr>\n",
       "      <th>2</th>\n",
       "      <td>640.0</td>\n",
       "      <td>936.0</td>\n",
       "      <td>1.03</td>\n",
       "      <td>-12.5</td>\n",
       "      <td>-36.5</td>\n",
       "      <td>left</td>\n",
       "      <td>HV9</td>\n",
       "      <td>0.0</td>\n",
       "    </tr>\n",
       "    <tr>\n",
       "      <th>3</th>\n",
       "      <td>77.0</td>\n",
       "      <td>512.0</td>\n",
       "      <td>0.71</td>\n",
       "      <td>-6.4</td>\n",
       "      <td>26.4</td>\n",
       "      <td>left</td>\n",
       "      <td>HV9</td>\n",
       "      <td>0.0</td>\n",
       "    </tr>\n",
       "    <tr>\n",
       "      <th>4</th>\n",
       "      <td>1202.0</td>\n",
       "      <td>512.0</td>\n",
       "      <td>1.53</td>\n",
       "      <td>24.8</td>\n",
       "      <td>48.6</td>\n",
       "      <td>left</td>\n",
       "      <td>HV9</td>\n",
       "      <td>0.0</td>\n",
       "    </tr>\n",
       "    <tr>\n",
       "      <th>5</th>\n",
       "      <td>144.0</td>\n",
       "      <td>138.0</td>\n",
       "      <td>0.80</td>\n",
       "      <td>10.7</td>\n",
       "      <td>27.5</td>\n",
       "      <td>left</td>\n",
       "      <td>HV9</td>\n",
       "      <td>0.0</td>\n",
       "    </tr>\n",
       "    <tr>\n",
       "      <th>6</th>\n",
       "      <td>1135.0</td>\n",
       "      <td>138.0</td>\n",
       "      <td>0.87</td>\n",
       "      <td>5.2</td>\n",
       "      <td>33.2</td>\n",
       "      <td>left</td>\n",
       "      <td>HV9</td>\n",
       "      <td>0.0</td>\n",
       "    </tr>\n",
       "    <tr>\n",
       "      <th>7</th>\n",
       "      <td>144.0</td>\n",
       "      <td>885.0</td>\n",
       "      <td>0.96</td>\n",
       "      <td>9.2</td>\n",
       "      <td>35.4</td>\n",
       "      <td>left</td>\n",
       "      <td>HV9</td>\n",
       "      <td>0.0</td>\n",
       "    </tr>\n",
       "    <tr>\n",
       "      <th>8</th>\n",
       "      <td>1135.0</td>\n",
       "      <td>885.0</td>\n",
       "      <td>10.35</td>\n",
       "      <td>-256.1</td>\n",
       "      <td>-189.6</td>\n",
       "      <td>left</td>\n",
       "      <td>HV9</td>\n",
       "      <td>0.0</td>\n",
       "    </tr>\n",
       "    <tr>\n",
       "      <th>0</th>\n",
       "      <td>640.0</td>\n",
       "      <td>512.0</td>\n",
       "      <td>0.77</td>\n",
       "      <td>-20.9</td>\n",
       "      <td>-8.1</td>\n",
       "      <td>left</td>\n",
       "      <td>HV9</td>\n",
       "      <td>0.0</td>\n",
       "    </tr>\n",
       "    <tr>\n",
       "      <th>1</th>\n",
       "      <td>640.0</td>\n",
       "      <td>87.0</td>\n",
       "      <td>0.15</td>\n",
       "      <td>3.9</td>\n",
       "      <td>2.2</td>\n",
       "      <td>left</td>\n",
       "      <td>HV9</td>\n",
       "      <td>0.0</td>\n",
       "    </tr>\n",
       "    <tr>\n",
       "      <th>2</th>\n",
       "      <td>640.0</td>\n",
       "      <td>936.0</td>\n",
       "      <td>0.72</td>\n",
       "      <td>-20.2</td>\n",
       "      <td>-2.7</td>\n",
       "      <td>left</td>\n",
       "      <td>HV9</td>\n",
       "      <td>0.0</td>\n",
       "    </tr>\n",
       "    <tr>\n",
       "      <th>3</th>\n",
       "      <td>77.0</td>\n",
       "      <td>512.0</td>\n",
       "      <td>0.26</td>\n",
       "      <td>-6.3</td>\n",
       "      <td>4.9</td>\n",
       "      <td>left</td>\n",
       "      <td>HV9</td>\n",
       "      <td>0.0</td>\n",
       "    </tr>\n",
       "    <tr>\n",
       "      <th>4</th>\n",
       "      <td>1202.0</td>\n",
       "      <td>512.0</td>\n",
       "      <td>0.34</td>\n",
       "      <td>9.6</td>\n",
       "      <td>0.0</td>\n",
       "      <td>left</td>\n",
       "      <td>HV9</td>\n",
       "      <td>0.0</td>\n",
       "    </tr>\n",
       "    <tr>\n",
       "      <th>5</th>\n",
       "      <td>144.0</td>\n",
       "      <td>138.0</td>\n",
       "      <td>0.37</td>\n",
       "      <td>7.5</td>\n",
       "      <td>10.2</td>\n",
       "      <td>left</td>\n",
       "      <td>HV9</td>\n",
       "      <td>0.0</td>\n",
       "    </tr>\n",
       "    <tr>\n",
       "      <th>6</th>\n",
       "      <td>1135.0</td>\n",
       "      <td>138.0</td>\n",
       "      <td>0.21</td>\n",
       "      <td>2.2</td>\n",
       "      <td>-7.7</td>\n",
       "      <td>left</td>\n",
       "      <td>HV9</td>\n",
       "      <td>0.0</td>\n",
       "    </tr>\n",
       "    <tr>\n",
       "      <th>7</th>\n",
       "      <td>144.0</td>\n",
       "      <td>885.0</td>\n",
       "      <td>0.54</td>\n",
       "      <td>15.0</td>\n",
       "      <td>-2.5</td>\n",
       "      <td>left</td>\n",
       "      <td>HV9</td>\n",
       "      <td>0.0</td>\n",
       "    </tr>\n",
       "    <tr>\n",
       "      <th>8</th>\n",
       "      <td>1135.0</td>\n",
       "      <td>885.0</td>\n",
       "      <td>0.33</td>\n",
       "      <td>-8.2</td>\n",
       "      <td>6.5</td>\n",
       "      <td>left</td>\n",
       "      <td>HV9</td>\n",
       "      <td>0.0</td>\n",
       "    </tr>\n",
       "  </tbody>\n",
       "</table>\n",
       "</div>"
      ],
      "text/plain": [
       "   point_x  point_y  offset  diff_x  diff_y   eye model  onset\n",
       "0    640.0    512.0    1.13    -8.7    42.4  left   HV9    0.0\n",
       "1    640.0     87.0    0.76   -17.5   -16.6  left   HV9    0.0\n",
       "2    640.0    936.0    1.03   -12.5   -36.5  left   HV9    0.0\n",
       "3     77.0    512.0    0.71    -6.4    26.4  left   HV9    0.0\n",
       "4   1202.0    512.0    1.53    24.8    48.6  left   HV9    0.0\n",
       "5    144.0    138.0    0.80    10.7    27.5  left   HV9    0.0\n",
       "6   1135.0    138.0    0.87     5.2    33.2  left   HV9    0.0\n",
       "7    144.0    885.0    0.96     9.2    35.4  left   HV9    0.0\n",
       "8   1135.0    885.0   10.35  -256.1  -189.6  left   HV9    0.0\n",
       "0    640.0    512.0    0.77   -20.9    -8.1  left   HV9    0.0\n",
       "1    640.0     87.0    0.15     3.9     2.2  left   HV9    0.0\n",
       "2    640.0    936.0    0.72   -20.2    -2.7  left   HV9    0.0\n",
       "3     77.0    512.0    0.26    -6.3     4.9  left   HV9    0.0\n",
       "4   1202.0    512.0    0.34     9.6     0.0  left   HV9    0.0\n",
       "5    144.0    138.0    0.37     7.5    10.2  left   HV9    0.0\n",
       "6   1135.0    138.0    0.21     2.2    -7.7  left   HV9    0.0\n",
       "7    144.0    885.0    0.54    15.0    -2.5  left   HV9    0.0\n",
       "8   1135.0    885.0    0.33    -8.2     6.5  left   HV9    0.0"
      ]
     },
     "execution_count": 12,
     "metadata": {},
     "output_type": "execute_result"
    }
   ],
   "source": [
    "df['calibrations']"
   ]
  },
  {
   "cell_type": "code",
   "execution_count": 13,
   "metadata": {},
   "outputs": [
    {
     "data": {
      "text/html": [
       "<div>\n",
       "<style scoped>\n",
       "    .dataframe tbody tr th:only-of-type {\n",
       "        vertical-align: middle;\n",
       "    }\n",
       "\n",
       "    .dataframe tbody tr th {\n",
       "        vertical-align: top;\n",
       "    }\n",
       "\n",
       "    .dataframe thead th {\n",
       "        text-align: right;\n",
       "    }\n",
       "</style>\n",
       "<table border=\"1\" class=\"dataframe\">\n",
       "  <thead>\n",
       "    <tr style=\"text-align: right;\">\n",
       "      <th></th>\n",
       "      <th>stime</th>\n",
       "      <th>msg</th>\n",
       "    </tr>\n",
       "  </thead>\n",
       "  <tbody>\n",
       "    <tr>\n",
       "      <th>0</th>\n",
       "      <td>0.0</td>\n",
       "      <td>DISPLAY_COORDS  0 0 1279 1023</td>\n",
       "    </tr>\n",
       "    <tr>\n",
       "      <th>1</th>\n",
       "      <td>0.0</td>\n",
       "      <td>!CAL \\n&gt;&gt;&gt;&gt;&gt;&gt;&gt; CALIBRATION (HV9,P-CR) FOR LEFT...</td>\n",
       "    </tr>\n",
       "    <tr>\n",
       "      <th>2</th>\n",
       "      <td>0.0</td>\n",
       "      <td>!CAL Calibration points:</td>\n",
       "    </tr>\n",
       "    <tr>\n",
       "      <th>3</th>\n",
       "      <td>0.0</td>\n",
       "      <td>!CAL  4.8, -23.3      1898,   5251</td>\n",
       "    </tr>\n",
       "    <tr>\n",
       "      <th>4</th>\n",
       "      <td>0.0</td>\n",
       "      <td>!CAL  4.6, -33.3      2163,   8856</td>\n",
       "    </tr>\n",
       "  </tbody>\n",
       "</table>\n",
       "</div>"
      ],
      "text/plain": [
       "   stime                                                msg\n",
       "0    0.0                      DISPLAY_COORDS  0 0 1279 1023\n",
       "1    0.0  !CAL \\n>>>>>>> CALIBRATION (HV9,P-CR) FOR LEFT...\n",
       "2    0.0                         !CAL Calibration points:  \n",
       "3    0.0              !CAL  4.8, -23.3      1898,   5251   \n",
       "4    0.0              !CAL  4.6, -33.3      2163,   8856   "
      ]
     },
     "execution_count": 13,
     "metadata": {},
     "output_type": "execute_result"
    }
   ],
   "source": [
    "df['discrete']['messages'].head()"
   ]
  },
  {
   "cell_type": "code",
   "execution_count": 14,
   "metadata": {},
   "outputs": [
    {
     "data": {
      "text/html": [
       "<div>\n",
       "<style scoped>\n",
       "    .dataframe tbody tr th:only-of-type {\n",
       "        vertical-align: middle;\n",
       "    }\n",
       "\n",
       "    .dataframe tbody tr th {\n",
       "        vertical-align: top;\n",
       "    }\n",
       "\n",
       "    .dataframe thead th {\n",
       "        text-align: right;\n",
       "    }\n",
       "</style>\n",
       "<table border=\"1\" class=\"dataframe\">\n",
       "  <thead>\n",
       "    <tr style=\"text-align: right;\">\n",
       "      <th></th>\n",
       "      <th>stime</th>\n",
       "      <th>buttons</th>\n",
       "    </tr>\n",
       "  </thead>\n",
       "  <tbody>\n",
       "    <tr>\n",
       "      <th>0</th>\n",
       "      <td>0.0</td>\n",
       "      <td>0.0</td>\n",
       "    </tr>\n",
       "    <tr>\n",
       "      <th>1</th>\n",
       "      <td>0.0</td>\n",
       "      <td>0.0</td>\n",
       "    </tr>\n",
       "    <tr>\n",
       "      <th>2</th>\n",
       "      <td>0.0</td>\n",
       "      <td>0.0</td>\n",
       "    </tr>\n",
       "    <tr>\n",
       "      <th>3</th>\n",
       "      <td>0.0</td>\n",
       "      <td>0.0</td>\n",
       "    </tr>\n",
       "    <tr>\n",
       "      <th>4</th>\n",
       "      <td>0.0</td>\n",
       "      <td>0.0</td>\n",
       "    </tr>\n",
       "  </tbody>\n",
       "</table>\n",
       "</div>"
      ],
      "text/plain": [
       "   stime  buttons\n",
       "0    0.0      0.0\n",
       "1    0.0      0.0\n",
       "2    0.0      0.0\n",
       "3    0.0      0.0\n",
       "4    0.0      0.0"
      ]
     },
     "execution_count": 14,
     "metadata": {},
     "output_type": "execute_result"
    }
   ],
   "source": [
    "df['discrete']['buttons'].head()"
   ]
  },
  {
   "cell_type": "code",
   "execution_count": 15,
   "metadata": {},
   "outputs": [
    {
     "data": {
      "text/html": [
       "<div>\n",
       "<style scoped>\n",
       "    .dataframe tbody tr th:only-of-type {\n",
       "        vertical-align: middle;\n",
       "    }\n",
       "\n",
       "    .dataframe tbody tr th {\n",
       "        vertical-align: top;\n",
       "    }\n",
       "\n",
       "    .dataframe thead th {\n",
       "        text-align: right;\n",
       "    }\n",
       "</style>\n",
       "<table border=\"1\" class=\"dataframe\">\n",
       "  <thead>\n",
       "    <tr style=\"text-align: right;\">\n",
       "      <th></th>\n",
       "      <th>stime</th>\n",
       "      <th>input</th>\n",
       "    </tr>\n",
       "  </thead>\n",
       "  <tbody>\n",
       "    <tr>\n",
       "      <th>0</th>\n",
       "      <td>0.0</td>\n",
       "      <td>127.0</td>\n",
       "    </tr>\n",
       "    <tr>\n",
       "      <th>1</th>\n",
       "      <td>0.0</td>\n",
       "      <td>127.0</td>\n",
       "    </tr>\n",
       "    <tr>\n",
       "      <th>2</th>\n",
       "      <td>0.0</td>\n",
       "      <td>127.0</td>\n",
       "    </tr>\n",
       "    <tr>\n",
       "      <th>3</th>\n",
       "      <td>0.0</td>\n",
       "      <td>127.0</td>\n",
       "    </tr>\n",
       "    <tr>\n",
       "      <th>4</th>\n",
       "      <td>0.0</td>\n",
       "      <td>127.0</td>\n",
       "    </tr>\n",
       "  </tbody>\n",
       "</table>\n",
       "</div>"
      ],
      "text/plain": [
       "   stime  input\n",
       "0    0.0  127.0\n",
       "1    0.0  127.0\n",
       "2    0.0  127.0\n",
       "3    0.0  127.0\n",
       "4    0.0  127.0"
      ]
     },
     "execution_count": 15,
     "metadata": {},
     "output_type": "execute_result"
    }
   ],
   "source": [
    "df['discrete']['inputs'].head()"
   ]
  },
  {
   "cell_type": "code",
   "execution_count": 16,
   "metadata": {},
   "outputs": [
    {
     "data": {
      "text/html": [
       "<div>\n",
       "<style scoped>\n",
       "    .dataframe tbody tr th:only-of-type {\n",
       "        vertical-align: middle;\n",
       "    }\n",
       "\n",
       "    .dataframe tbody tr th {\n",
       "        vertical-align: top;\n",
       "    }\n",
       "\n",
       "    .dataframe thead th {\n",
       "        text-align: right;\n",
       "    }\n",
       "</style>\n",
       "<table border=\"1\" class=\"dataframe\">\n",
       "  <thead>\n",
       "    <tr style=\"text-align: right;\">\n",
       "      <th></th>\n",
       "      <th>eye</th>\n",
       "      <th>stime</th>\n",
       "      <th>etime</th>\n",
       "      <th>axp</th>\n",
       "      <th>ayp</th>\n",
       "    </tr>\n",
       "  </thead>\n",
       "  <tbody>\n",
       "    <tr>\n",
       "      <th>0</th>\n",
       "      <td>LEFT_EYE</td>\n",
       "      <td>0.010</td>\n",
       "      <td>0.210</td>\n",
       "      <td>662.200012</td>\n",
       "      <td>533.799988</td>\n",
       "    </tr>\n",
       "    <tr>\n",
       "      <th>1</th>\n",
       "      <td>LEFT_EYE</td>\n",
       "      <td>0.252</td>\n",
       "      <td>0.388</td>\n",
       "      <td>560.299988</td>\n",
       "      <td>466.899994</td>\n",
       "    </tr>\n",
       "    <tr>\n",
       "      <th>2</th>\n",
       "      <td>LEFT_EYE</td>\n",
       "      <td>0.422</td>\n",
       "      <td>2.170</td>\n",
       "      <td>628.400024</td>\n",
       "      <td>510.899994</td>\n",
       "    </tr>\n",
       "    <tr>\n",
       "      <th>3</th>\n",
       "      <td>LEFT_EYE</td>\n",
       "      <td>2.318</td>\n",
       "      <td>2.760</td>\n",
       "      <td>597.400024</td>\n",
       "      <td>521.299988</td>\n",
       "    </tr>\n",
       "    <tr>\n",
       "      <th>4</th>\n",
       "      <td>LEFT_EYE</td>\n",
       "      <td>2.792</td>\n",
       "      <td>3.168</td>\n",
       "      <td>555.599976</td>\n",
       "      <td>531.200012</td>\n",
       "    </tr>\n",
       "  </tbody>\n",
       "</table>\n",
       "</div>"
      ],
      "text/plain": [
       "        eye  stime  etime         axp         ayp\n",
       "0  LEFT_EYE  0.010  0.210  662.200012  533.799988\n",
       "1  LEFT_EYE  0.252  0.388  560.299988  466.899994\n",
       "2  LEFT_EYE  0.422  2.170  628.400024  510.899994\n",
       "3  LEFT_EYE  2.318  2.760  597.400024  521.299988\n",
       "4  LEFT_EYE  2.792  3.168  555.599976  531.200012"
      ]
     },
     "execution_count": 16,
     "metadata": {},
     "output_type": "execute_result"
    }
   ],
   "source": [
    "df['discrete']['fixations'].head()"
   ]
  },
  {
   "cell_type": "code",
   "execution_count": 17,
   "metadata": {},
   "outputs": [
    {
     "data": {
      "text/html": [
       "<div>\n",
       "<style scoped>\n",
       "    .dataframe tbody tr th:only-of-type {\n",
       "        vertical-align: middle;\n",
       "    }\n",
       "\n",
       "    .dataframe tbody tr th {\n",
       "        vertical-align: top;\n",
       "    }\n",
       "\n",
       "    .dataframe thead th {\n",
       "        text-align: right;\n",
       "    }\n",
       "</style>\n",
       "<table border=\"1\" class=\"dataframe\">\n",
       "  <thead>\n",
       "    <tr style=\"text-align: right;\">\n",
       "      <th></th>\n",
       "      <th>eye</th>\n",
       "      <th>stime</th>\n",
       "      <th>etime</th>\n",
       "    </tr>\n",
       "  </thead>\n",
       "  <tbody>\n",
       "    <tr>\n",
       "      <th>0</th>\n",
       "      <td>LEFT_EYE</td>\n",
       "      <td>2.216</td>\n",
       "      <td>2.222</td>\n",
       "    </tr>\n",
       "    <tr>\n",
       "      <th>1</th>\n",
       "      <td>LEFT_EYE</td>\n",
       "      <td>10.692</td>\n",
       "      <td>10.756</td>\n",
       "    </tr>\n",
       "    <tr>\n",
       "      <th>2</th>\n",
       "      <td>LEFT_EYE</td>\n",
       "      <td>19.648</td>\n",
       "      <td>19.686</td>\n",
       "    </tr>\n",
       "    <tr>\n",
       "      <th>3</th>\n",
       "      <td>LEFT_EYE</td>\n",
       "      <td>31.098</td>\n",
       "      <td>31.176</td>\n",
       "    </tr>\n",
       "    <tr>\n",
       "      <th>4</th>\n",
       "      <td>LEFT_EYE</td>\n",
       "      <td>51.568</td>\n",
       "      <td>51.630</td>\n",
       "    </tr>\n",
       "  </tbody>\n",
       "</table>\n",
       "</div>"
      ],
      "text/plain": [
       "        eye   stime   etime\n",
       "0  LEFT_EYE   2.216   2.222\n",
       "1  LEFT_EYE  10.692  10.756\n",
       "2  LEFT_EYE  19.648  19.686\n",
       "3  LEFT_EYE  31.098  31.176\n",
       "4  LEFT_EYE  51.568  51.630"
      ]
     },
     "execution_count": 17,
     "metadata": {},
     "output_type": "execute_result"
    }
   ],
   "source": [
    "df['discrete']['blinks'].head()"
   ]
  },
  {
   "cell_type": "code",
   "execution_count": 18,
   "metadata": {},
   "outputs": [
    {
     "data": {
      "text/html": [
       "<div>\n",
       "<style scoped>\n",
       "    .dataframe tbody tr th:only-of-type {\n",
       "        vertical-align: middle;\n",
       "    }\n",
       "\n",
       "    .dataframe tbody tr th {\n",
       "        vertical-align: top;\n",
       "    }\n",
       "\n",
       "    .dataframe thead th {\n",
       "        text-align: right;\n",
       "    }\n",
       "</style>\n",
       "<table border=\"1\" class=\"dataframe\">\n",
       "  <thead>\n",
       "    <tr style=\"text-align: right;\">\n",
       "      <th></th>\n",
       "      <th>eye</th>\n",
       "      <th>stime</th>\n",
       "      <th>etime</th>\n",
       "      <th>sxp</th>\n",
       "      <th>syp</th>\n",
       "      <th>exp</th>\n",
       "      <th>eyp</th>\n",
       "      <th>pv</th>\n",
       "    </tr>\n",
       "  </thead>\n",
       "  <tbody>\n",
       "    <tr>\n",
       "      <th>0</th>\n",
       "      <td>LEFT_EYE</td>\n",
       "      <td>0.212</td>\n",
       "      <td>0.250</td>\n",
       "      <td>660.099976</td>\n",
       "      <td>530.500000</td>\n",
       "      <td>557.299988</td>\n",
       "      <td>466.299988</td>\n",
       "      <td>191.000000</td>\n",
       "    </tr>\n",
       "    <tr>\n",
       "      <th>1</th>\n",
       "      <td>LEFT_EYE</td>\n",
       "      <td>0.390</td>\n",
       "      <td>0.420</td>\n",
       "      <td>560.200012</td>\n",
       "      <td>469.700012</td>\n",
       "      <td>620.500000</td>\n",
       "      <td>508.700012</td>\n",
       "      <td>172.500000</td>\n",
       "    </tr>\n",
       "    <tr>\n",
       "      <th>2</th>\n",
       "      <td>LEFT_EYE</td>\n",
       "      <td>2.172</td>\n",
       "      <td>2.316</td>\n",
       "      <td>630.599976</td>\n",
       "      <td>524.000000</td>\n",
       "      <td>575.099976</td>\n",
       "      <td>546.500000</td>\n",
       "      <td>1109.900024</td>\n",
       "    </tr>\n",
       "    <tr>\n",
       "      <th>3</th>\n",
       "      <td>LEFT_EYE</td>\n",
       "      <td>2.762</td>\n",
       "      <td>2.790</td>\n",
       "      <td>598.200012</td>\n",
       "      <td>526.000000</td>\n",
       "      <td>548.400024</td>\n",
       "      <td>538.900024</td>\n",
       "      <td>136.500000</td>\n",
       "    </tr>\n",
       "    <tr>\n",
       "      <th>4</th>\n",
       "      <td>LEFT_EYE</td>\n",
       "      <td>3.170</td>\n",
       "      <td>3.204</td>\n",
       "      <td>558.200012</td>\n",
       "      <td>529.000000</td>\n",
       "      <td>668.099976</td>\n",
       "      <td>490.100006</td>\n",
       "      <td>217.000000</td>\n",
       "    </tr>\n",
       "  </tbody>\n",
       "</table>\n",
       "</div>"
      ],
      "text/plain": [
       "        eye  stime  etime         sxp         syp         exp         eyp  \\\n",
       "0  LEFT_EYE  0.212  0.250  660.099976  530.500000  557.299988  466.299988   \n",
       "1  LEFT_EYE  0.390  0.420  560.200012  469.700012  620.500000  508.700012   \n",
       "2  LEFT_EYE  2.172  2.316  630.599976  524.000000  575.099976  546.500000   \n",
       "3  LEFT_EYE  2.762  2.790  598.200012  526.000000  548.400024  538.900024   \n",
       "4  LEFT_EYE  3.170  3.204  558.200012  529.000000  668.099976  490.100006   \n",
       "\n",
       "            pv  \n",
       "0   191.000000  \n",
       "1   172.500000  \n",
       "2  1109.900024  \n",
       "3   136.500000  \n",
       "4   217.000000  "
      ]
     },
     "execution_count": 18,
     "metadata": {},
     "output_type": "execute_result"
    }
   ],
   "source": [
    "df['discrete']['saccades'].head()"
   ]
  },
  {
   "cell_type": "markdown",
   "metadata": {},
   "source": [
    "### example: average data sampled every second and plot hetamap"
   ]
  },
  {
   "cell_type": "code",
   "execution_count": 19,
   "metadata": {},
   "outputs": [
    {
     "data": {
      "text/html": [
       "<div>\n",
       "<style scoped>\n",
       "    .dataframe tbody tr th:only-of-type {\n",
       "        vertical-align: middle;\n",
       "    }\n",
       "\n",
       "    .dataframe tbody tr th {\n",
       "        vertical-align: top;\n",
       "    }\n",
       "\n",
       "    .dataframe thead th {\n",
       "        text-align: right;\n",
       "    }\n",
       "</style>\n",
       "<table border=\"1\" class=\"dataframe\">\n",
       "  <thead>\n",
       "    <tr style=\"text-align: right;\">\n",
       "      <th></th>\n",
       "      <th>xpos</th>\n",
       "      <th>ypos</th>\n",
       "      <th>ps</th>\n",
       "      <th>time</th>\n",
       "    </tr>\n",
       "  </thead>\n",
       "  <tbody>\n",
       "    <tr>\n",
       "      <th>0</th>\n",
       "      <td>662.599976</td>\n",
       "      <td>527.599976</td>\n",
       "      <td>233.0</td>\n",
       "      <td>0.000</td>\n",
       "    </tr>\n",
       "    <tr>\n",
       "      <th>1</th>\n",
       "      <td>662.700012</td>\n",
       "      <td>527.799988</td>\n",
       "      <td>233.0</td>\n",
       "      <td>0.002</td>\n",
       "    </tr>\n",
       "    <tr>\n",
       "      <th>2</th>\n",
       "      <td>662.799988</td>\n",
       "      <td>528.200012</td>\n",
       "      <td>233.0</td>\n",
       "      <td>0.004</td>\n",
       "    </tr>\n",
       "    <tr>\n",
       "      <th>3</th>\n",
       "      <td>663.000000</td>\n",
       "      <td>528.599976</td>\n",
       "      <td>233.0</td>\n",
       "      <td>0.006</td>\n",
       "    </tr>\n",
       "    <tr>\n",
       "      <th>4</th>\n",
       "      <td>663.099976</td>\n",
       "      <td>529.000000</td>\n",
       "      <td>233.0</td>\n",
       "      <td>0.008</td>\n",
       "    </tr>\n",
       "  </tbody>\n",
       "</table>\n",
       "</div>"
      ],
      "text/plain": [
       "         xpos        ypos     ps   time\n",
       "0  662.599976  527.599976  233.0  0.000\n",
       "1  662.700012  527.799988  233.0  0.002\n",
       "2  662.799988  528.200012  233.0  0.004\n",
       "3  663.000000  528.599976  233.0  0.006\n",
       "4  663.099976  529.000000  233.0  0.008"
      ]
     },
     "execution_count": 19,
     "metadata": {},
     "output_type": "execute_result"
    }
   ],
   "source": [
    "# data wrangling\n",
    "data = df['samples'].copy()\n",
    "data['time'] = edf['times']\n",
    "data.head()"
   ]
  },
  {
   "cell_type": "code",
   "execution_count": 20,
   "metadata": {},
   "outputs": [
    {
     "data": {
      "text/html": [
       "<div>\n",
       "<style scoped>\n",
       "    .dataframe tbody tr th:only-of-type {\n",
       "        vertical-align: middle;\n",
       "    }\n",
       "\n",
       "    .dataframe tbody tr th {\n",
       "        vertical-align: top;\n",
       "    }\n",
       "\n",
       "    .dataframe thead th {\n",
       "        text-align: right;\n",
       "    }\n",
       "</style>\n",
       "<table border=\"1\" class=\"dataframe\">\n",
       "  <thead>\n",
       "    <tr style=\"text-align: right;\">\n",
       "      <th></th>\n",
       "      <th>time_sec</th>\n",
       "      <th>xpos</th>\n",
       "      <th>ypos</th>\n",
       "      <th>ps</th>\n",
       "    </tr>\n",
       "  </thead>\n",
       "  <tbody>\n",
       "    <tr>\n",
       "      <th>0</th>\n",
       "      <td>0</td>\n",
       "      <td>619.219801</td>\n",
       "      <td>506.396000</td>\n",
       "      <td>251.716</td>\n",
       "    </tr>\n",
       "    <tr>\n",
       "      <th>1</th>\n",
       "      <td>1</td>\n",
       "      <td>632.840201</td>\n",
       "      <td>509.971401</td>\n",
       "      <td>265.462</td>\n",
       "    </tr>\n",
       "    <tr>\n",
       "      <th>2</th>\n",
       "      <td>2</td>\n",
       "      <td>573.434879</td>\n",
       "      <td>587.827015</td>\n",
       "      <td>290.692</td>\n",
       "    </tr>\n",
       "    <tr>\n",
       "      <th>3</th>\n",
       "      <td>3</td>\n",
       "      <td>604.082001</td>\n",
       "      <td>511.400199</td>\n",
       "      <td>239.678</td>\n",
       "    </tr>\n",
       "    <tr>\n",
       "      <th>4</th>\n",
       "      <td>4</td>\n",
       "      <td>901.059001</td>\n",
       "      <td>503.748799</td>\n",
       "      <td>269.336</td>\n",
       "    </tr>\n",
       "  </tbody>\n",
       "</table>\n",
       "</div>"
      ],
      "text/plain": [
       "   time_sec        xpos        ypos       ps\n",
       "0         0  619.219801  506.396000  251.716\n",
       "1         1  632.840201  509.971401  265.462\n",
       "2         2  573.434879  587.827015  290.692\n",
       "3         3  604.082001  511.400199  239.678\n",
       "4         4  901.059001  503.748799  269.336"
      ]
     },
     "execution_count": 20,
     "metadata": {},
     "output_type": "execute_result"
    }
   ],
   "source": [
    "# convert time to integer to represent each second\n",
    "data['time_sec'] = data['time'].astype(int) # always rounding down\n",
    "\n",
    "# group by time_sec and calculate the mean for 'xpos', 'ypos', 'pupil'\n",
    "data_grouped = data.groupby('time_sec')[['xpos', 'ypos', 'ps']].mean().reset_index()\n",
    "data_grouped = data_grouped.dropna()\n",
    "data_grouped.head()"
   ]
  },
  {
   "cell_type": "code",
   "execution_count": 21,
   "metadata": {},
   "outputs": [
    {
     "data": {
      "text/plain": [
       "<matplotlib.colorbar.Colorbar at 0x126492030>"
      ]
     },
     "execution_count": 21,
     "metadata": {},
     "output_type": "execute_result"
    },
    {
     "data": {
      "image/png": "[encoded data removed]",
      "text/plain": [
       "<Figure size 640x480 with 2 Axes>"
      ]
     },
     "metadata": {},
     "output_type": "display_data"
    }
   ],
   "source": [
    "# create 2D array for x and y positions\n",
    "heatmap, xedges, yedges = np.histogram2d(data_grouped['xpos'], data_grouped['ypos'], bins=50)\n",
    "screen_coords = edf['info']['screen_coords']\n",
    "\n",
    "# Plot the heatmap using imshow\n",
    "plt.imshow(heatmap.T, origin='lower', cmap='viridis',\n",
    "           extent=[0, screen_coords[0], 0, screen_coords[1]])\n",
    "plt.colorbar(label='Count')\n",
    "\n",
    "# note: the heatmap is not corrected with calibration info\n",
    "#the screen coordinates seem off! My screen is 0,1024 for x and 0, 768 for y! \n",
    "#So this looks like is actually fixed in the middle\n",
    "#But I am not sure how long of a time it is plotting really, is it all?\n",
    "#it could be given there is a 2 second fixation before e"
   ]
  }
 ],
 "metadata": {
  "kernelspec": {
   "display_name": "Python 3 (ipykernel)",
   "language": "python",
   "name": "python3"
  },
  "language_info": {
   "codemirror_mode": {
    "name": "ipython",
    "version": 3
   },
   "file_extension": ".py",
   "mimetype": "text/x-python",
   "name": "python",
   "nbconvert_exporter": "python",
   "pygments_lexer": "ipython3",
   "version": "3.12.2"
  }
 },
 "nbformat": 4,
 "nbformat_minor": 4
}
