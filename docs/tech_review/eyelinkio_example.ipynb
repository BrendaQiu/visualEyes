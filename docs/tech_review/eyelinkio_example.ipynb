{
 "cells": [
  {
   "cell_type": "markdown",
   "metadata": {},
   "source": [
    "### Initialization"
   ]
  },
  {
   "cell_type": "code",
   "execution_count": 132,
   "metadata": {},
   "outputs": [],
   "source": [
    "import eyelinkio\n",
    "import os\n",
    "import pandas as pd\n",
    "import matplotlib.pyplot as plt\n",
    "import numpy as np"
   ]
  },
  {
   "cell_type": "markdown",
   "metadata": {},
   "source": [
    "### Loading `edf` file with `eyelinkio`"
   ]
  },
  {
   "cell_type": "code",
   "execution_count": 6,
   "metadata": {},
   "outputs": [
    {
     "name": "stdout",
     "output_type": "stream",
     "text": [
      "loadEvents = 1\n",
      "loadEvents = 1\n",
      "<EDF | 538mtlP1.edf> \n",
      "  Version: EYELINK II 1 \n",
      "  Eye: RIGHT_EYE \n",
      "  Pupil unit: PUPIL_AREA \n",
      "  Sampling frequency: 500.0 Hz \n",
      "  Calibrations: 1 \n",
      "  Length: 227.566 seconds \n",
      "\n"
     ]
    }
   ],
   "source": [
    "# define path to data\n",
    "edf_path = '/Users/Brenda/projects/visualEyes/data/538mtlP1.edf'\n",
    "\n",
    "# read edf and print metadata\n",
    "edf = eyelinkio.read_edf(edf_path)\n",
    "print(edf)"
   ]
  },
  {
   "cell_type": "code",
   "execution_count": 8,
   "metadata": {},
   "outputs": [
    {
     "data": {
      "text/plain": [
       "dict_keys(['info', 'discrete', 'times', 'samples'])"
      ]
     },
     "execution_count": 8,
     "metadata": {},
     "output_type": "execute_result"
    }
   ],
   "source": [
    "# inpsect structure of edf\n",
    "edf.keys()"
   ]
  },
  {
   "cell_type": "code",
   "execution_count": 86,
   "metadata": {},
   "outputs": [
    {
     "data": {
      "text/plain": [
       "{'meas_date': datetime.datetime(2024, 7, 23, 10, 15, 2),\n",
       " 'version': 'EYELINK II 1',\n",
       " 'camera': 'EyeLink CL-OL HEAD Version 1.0 Sensor=BF8',\n",
       " 'serial': 'CLO-ZBF20',\n",
       " 'camera_config': 'ZBF20140.SCD',\n",
       " 'sfreq': 500.0,\n",
       " 'ps_units': 'PUPIL_AREA',\n",
       " 'eye': 'RIGHT_EYE',\n",
       " 'sample_fields': ['xpos', 'ypos', 'ps'],\n",
       " 'edfapi_version': '4.2.1197.0 MacOS X   standalone Sep 27 2024',\n",
       " 'screen_coords': array([1920, 1080]),\n",
       " 'calibrations': [{'onset': 0.0,\n",
       "   'eye': 'right',\n",
       "   'validation': array([( 960., 540., 0.17,  10.9,   1.7),\n",
       "          ( 960., 119., 0.75,  11.3, -46.8),\n",
       "          ( 960., 960., 0.44,   7.1,  27.1),\n",
       "          ( 288., 540., 0.6 , -25.9,  28.3),\n",
       "          (1631., 540., 0.61,  12.5,  37.3)],\n",
       "         dtype=[('point_x', '<f8'), ('point_y', '<f8'), ('offset', '<f8'), ('diff_x', '<f8'), ('diff_y', '<f8')]),\n",
       "   'model': 'HV5'}],\n",
       " 'filename': '538mtlP1.edf'}"
      ]
     },
     "execution_count": 86,
     "metadata": {},
     "output_type": "execute_result"
    }
   ],
   "source": [
    "edf['info']"
   ]
  },
  {
   "cell_type": "markdown",
   "metadata": {},
   "source": [
    "### `edf['discrete']`"
   ]
  },
  {
   "cell_type": "code",
   "execution_count": null,
   "metadata": {},
   "outputs": [
    {
     "data": {
      "text/plain": [
       "dict_keys(['messages', 'buttons', 'inputs', 'fixations', 'blinks', 'saccades'])"
      ]
     },
     "execution_count": 11,
     "metadata": {},
     "output_type": "execute_result"
    }
   ],
   "source": [
    "edf['discrete'].keys()\n",
    "\n",
    "# edf['discrete']['messages']: time, message\n",
    "# edf['discrete']['buttons']: time, button\n",
    "# edf['discrete']['inputs']: time, input"
   ]
  },
  {
   "cell_type": "code",
   "execution_count": null,
   "metadata": {},
   "outputs": [
    {
     "data": {
      "text/plain": [
       "(1., 0.004, 0.074, 981.40002441, 206.1000061)"
      ]
     },
     "execution_count": 24,
     "metadata": {},
     "output_type": "execute_result"
    }
   ],
   "source": [
    "# inspect fixation data structure\n",
    "edf['discrete']['fixations'][0] # first fixation\n",
    "# structure: eye (1=right eye), start time, end time, average x, average y"
   ]
  },
  {
   "cell_type": "code",
   "execution_count": null,
   "metadata": {},
   "outputs": [
    {
     "data": {
      "text/plain": [
       "(1., 0.196, 0.41)"
      ]
     },
     "execution_count": 28,
     "metadata": {},
     "output_type": "execute_result"
    }
   ],
   "source": [
    "# inspect blink data structure\n",
    "edf['discrete']['blinks'][0] # first blink\n",
    "# structure: eye (1=right eye), start time, end time"
   ]
  },
  {
   "cell_type": "code",
   "execution_count": null,
   "metadata": {},
   "outputs": [
    {
     "name": "stdout",
     "output_type": "stream",
     "text": [
      "(1., 0.076, 0.608, 973.79998779, 199.3999939, 1032., 47.90000153, 2726.5)\n"
     ]
    }
   ],
   "source": [
    "# inspect saccade data structure\n",
    "edf['discrete']['saccades'][0] # first saccade\n",
    "# structure: eye, start time, end time, gaze start x, gaze start y, gaze end x, gaze end y, peak velocity (unit?)"
   ]
  },
  {
   "cell_type": "markdown",
   "metadata": {},
   "source": [
    "### convert `edf` to `pandas` `df`"
   ]
  },
  {
   "cell_type": "code",
   "execution_count": 108,
   "metadata": {},
   "outputs": [
    {
     "data": {
      "text/plain": [
       "dict_keys(['discrete', 'samples', 'calibrations'])"
      ]
     },
     "execution_count": 108,
     "metadata": {},
     "output_type": "execute_result"
    }
   ],
   "source": [
    "df = edf.to_pandas()\n",
    "df.keys()"
   ]
  },
  {
   "cell_type": "code",
   "execution_count": 109,
   "metadata": {},
   "outputs": [
    {
     "data": {
      "text/html": [
       "<div>\n",
       "<style scoped>\n",
       "    .dataframe tbody tr th:only-of-type {\n",
       "        vertical-align: middle;\n",
       "    }\n",
       "\n",
       "    .dataframe tbody tr th {\n",
       "        vertical-align: top;\n",
       "    }\n",
       "\n",
       "    .dataframe thead th {\n",
       "        text-align: right;\n",
       "    }\n",
       "</style>\n",
       "<table border=\"1\" class=\"dataframe\">\n",
       "  <thead>\n",
       "    <tr style=\"text-align: right;\">\n",
       "      <th></th>\n",
       "      <th>xpos</th>\n",
       "      <th>ypos</th>\n",
       "      <th>ps</th>\n",
       "    </tr>\n",
       "  </thead>\n",
       "  <tbody>\n",
       "    <tr>\n",
       "      <th>0</th>\n",
       "      <td>989.299988</td>\n",
       "      <td>207.800003</td>\n",
       "      <td>1941.0</td>\n",
       "    </tr>\n",
       "    <tr>\n",
       "      <th>1</th>\n",
       "      <td>989.700012</td>\n",
       "      <td>207.800003</td>\n",
       "      <td>1942.0</td>\n",
       "    </tr>\n",
       "    <tr>\n",
       "      <th>2</th>\n",
       "      <td>989.400024</td>\n",
       "      <td>207.899994</td>\n",
       "      <td>1943.0</td>\n",
       "    </tr>\n",
       "    <tr>\n",
       "      <th>3</th>\n",
       "      <td>989.200012</td>\n",
       "      <td>207.600006</td>\n",
       "      <td>1942.0</td>\n",
       "    </tr>\n",
       "    <tr>\n",
       "      <th>4</th>\n",
       "      <td>989.000000</td>\n",
       "      <td>207.199997</td>\n",
       "      <td>1942.0</td>\n",
       "    </tr>\n",
       "  </tbody>\n",
       "</table>\n",
       "</div>"
      ],
      "text/plain": [
       "         xpos        ypos      ps\n",
       "0  989.299988  207.800003  1941.0\n",
       "1  989.700012  207.800003  1942.0\n",
       "2  989.400024  207.899994  1943.0\n",
       "3  989.200012  207.600006  1942.0\n",
       "4  989.000000  207.199997  1942.0"
      ]
     },
     "execution_count": 109,
     "metadata": {},
     "output_type": "execute_result"
    }
   ],
   "source": [
    "df['samples'].head() #x, y, pupil size"
   ]
  },
  {
   "cell_type": "code",
   "execution_count": 110,
   "metadata": {},
   "outputs": [
    {
     "name": "stdout",
     "output_type": "stream",
     "text": [
      "227.566 227.564\n"
     ]
    }
   ],
   "source": [
    "# edf['samples'] contain all samples that were recorded during the session \n",
    "# to prove that:\n",
    "num_samples = edf['samples'].shape[1]\n",
    "sample_freq = edf['info']['sfreq']\n",
    "time = num_samples / sample_freq # time should be close/equal to the duration of the session\n",
    "print(time, edf['times'][-1])"
   ]
  },
  {
   "cell_type": "code",
   "execution_count": 111,
   "metadata": {},
   "outputs": [
    {
     "data": {
      "text/html": [
       "<div>\n",
       "<style scoped>\n",
       "    .dataframe tbody tr th:only-of-type {\n",
       "        vertical-align: middle;\n",
       "    }\n",
       "\n",
       "    .dataframe tbody tr th {\n",
       "        vertical-align: top;\n",
       "    }\n",
       "\n",
       "    .dataframe thead th {\n",
       "        text-align: right;\n",
       "    }\n",
       "</style>\n",
       "<table border=\"1\" class=\"dataframe\">\n",
       "  <thead>\n",
       "    <tr style=\"text-align: right;\">\n",
       "      <th></th>\n",
       "      <th>point_x</th>\n",
       "      <th>point_y</th>\n",
       "      <th>offset</th>\n",
       "      <th>diff_x</th>\n",
       "      <th>diff_y</th>\n",
       "      <th>eye</th>\n",
       "      <th>model</th>\n",
       "      <th>onset</th>\n",
       "    </tr>\n",
       "  </thead>\n",
       "  <tbody>\n",
       "    <tr>\n",
       "      <th>0</th>\n",
       "      <td>960.0</td>\n",
       "      <td>540.0</td>\n",
       "      <td>0.17</td>\n",
       "      <td>10.9</td>\n",
       "      <td>1.7</td>\n",
       "      <td>right</td>\n",
       "      <td>HV5</td>\n",
       "      <td>0.0</td>\n",
       "    </tr>\n",
       "    <tr>\n",
       "      <th>1</th>\n",
       "      <td>960.0</td>\n",
       "      <td>119.0</td>\n",
       "      <td>0.75</td>\n",
       "      <td>11.3</td>\n",
       "      <td>-46.8</td>\n",
       "      <td>right</td>\n",
       "      <td>HV5</td>\n",
       "      <td>0.0</td>\n",
       "    </tr>\n",
       "    <tr>\n",
       "      <th>2</th>\n",
       "      <td>960.0</td>\n",
       "      <td>960.0</td>\n",
       "      <td>0.44</td>\n",
       "      <td>7.1</td>\n",
       "      <td>27.1</td>\n",
       "      <td>right</td>\n",
       "      <td>HV5</td>\n",
       "      <td>0.0</td>\n",
       "    </tr>\n",
       "    <tr>\n",
       "      <th>3</th>\n",
       "      <td>288.0</td>\n",
       "      <td>540.0</td>\n",
       "      <td>0.60</td>\n",
       "      <td>-25.9</td>\n",
       "      <td>28.3</td>\n",
       "      <td>right</td>\n",
       "      <td>HV5</td>\n",
       "      <td>0.0</td>\n",
       "    </tr>\n",
       "    <tr>\n",
       "      <th>4</th>\n",
       "      <td>1631.0</td>\n",
       "      <td>540.0</td>\n",
       "      <td>0.61</td>\n",
       "      <td>12.5</td>\n",
       "      <td>37.3</td>\n",
       "      <td>right</td>\n",
       "      <td>HV5</td>\n",
       "      <td>0.0</td>\n",
       "    </tr>\n",
       "  </tbody>\n",
       "</table>\n",
       "</div>"
      ],
      "text/plain": [
       "   point_x  point_y  offset  diff_x  diff_y    eye model  onset\n",
       "0    960.0    540.0    0.17    10.9     1.7  right   HV5    0.0\n",
       "1    960.0    119.0    0.75    11.3   -46.8  right   HV5    0.0\n",
       "2    960.0    960.0    0.44     7.1    27.1  right   HV5    0.0\n",
       "3    288.0    540.0    0.60   -25.9    28.3  right   HV5    0.0\n",
       "4   1631.0    540.0    0.61    12.5    37.3  right   HV5    0.0"
      ]
     },
     "execution_count": 111,
     "metadata": {},
     "output_type": "execute_result"
    }
   ],
   "source": [
    "df['calibrations']"
   ]
  },
  {
   "cell_type": "code",
   "execution_count": 112,
   "metadata": {},
   "outputs": [
    {
     "data": {
      "text/html": [
       "<div>\n",
       "<style scoped>\n",
       "    .dataframe tbody tr th:only-of-type {\n",
       "        vertical-align: middle;\n",
       "    }\n",
       "\n",
       "    .dataframe tbody tr th {\n",
       "        vertical-align: top;\n",
       "    }\n",
       "\n",
       "    .dataframe thead th {\n",
       "        text-align: right;\n",
       "    }\n",
       "</style>\n",
       "<table border=\"1\" class=\"dataframe\">\n",
       "  <thead>\n",
       "    <tr style=\"text-align: right;\">\n",
       "      <th></th>\n",
       "      <th>stime</th>\n",
       "      <th>msg</th>\n",
       "    </tr>\n",
       "  </thead>\n",
       "  <tbody>\n",
       "    <tr>\n",
       "      <th>0</th>\n",
       "      <td>0.0</td>\n",
       "      <td>DISPLAY_COORDS 0 0 1919 1079</td>\n",
       "    </tr>\n",
       "    <tr>\n",
       "      <th>1</th>\n",
       "      <td>0.0</td>\n",
       "      <td>!CAL \\n&gt;&gt;&gt;&gt;&gt;&gt;&gt; CALIBRATION (HV5,P-CR) FOR RIGH...</td>\n",
       "    </tr>\n",
       "    <tr>\n",
       "      <th>2</th>\n",
       "      <td>0.0</td>\n",
       "      <td>!CAL Calibration points:</td>\n",
       "    </tr>\n",
       "    <tr>\n",
       "      <th>3</th>\n",
       "      <td>0.0</td>\n",
       "      <td>!CAL  10.4, -40.3        -0,    103</td>\n",
       "    </tr>\n",
       "    <tr>\n",
       "      <th>4</th>\n",
       "      <td>0.0</td>\n",
       "      <td>!CAL  11.5, -53.6        -0,  -1655</td>\n",
       "    </tr>\n",
       "  </tbody>\n",
       "</table>\n",
       "</div>"
      ],
      "text/plain": [
       "   stime                                                msg\n",
       "0    0.0                       DISPLAY_COORDS 0 0 1919 1079\n",
       "1    0.0  !CAL \\n>>>>>>> CALIBRATION (HV5,P-CR) FOR RIGH...\n",
       "2    0.0                         !CAL Calibration points:  \n",
       "3    0.0             !CAL  10.4, -40.3        -0,    103   \n",
       "4    0.0             !CAL  11.5, -53.6        -0,  -1655   "
      ]
     },
     "execution_count": 112,
     "metadata": {},
     "output_type": "execute_result"
    }
   ],
   "source": [
    "df['discrete']['messages'].head()"
   ]
  },
  {
   "cell_type": "code",
   "execution_count": 113,
   "metadata": {},
   "outputs": [
    {
     "data": {
      "text/html": [
       "<div>\n",
       "<style scoped>\n",
       "    .dataframe tbody tr th:only-of-type {\n",
       "        vertical-align: middle;\n",
       "    }\n",
       "\n",
       "    .dataframe tbody tr th {\n",
       "        vertical-align: top;\n",
       "    }\n",
       "\n",
       "    .dataframe thead th {\n",
       "        text-align: right;\n",
       "    }\n",
       "</style>\n",
       "<table border=\"1\" class=\"dataframe\">\n",
       "  <thead>\n",
       "    <tr style=\"text-align: right;\">\n",
       "      <th></th>\n",
       "      <th>stime</th>\n",
       "      <th>buttons</th>\n",
       "    </tr>\n",
       "  </thead>\n",
       "  <tbody>\n",
       "    <tr>\n",
       "      <th>0</th>\n",
       "      <td>0.000</td>\n",
       "      <td>0.0</td>\n",
       "    </tr>\n",
       "    <tr>\n",
       "      <th>1</th>\n",
       "      <td>0.000</td>\n",
       "      <td>0.0</td>\n",
       "    </tr>\n",
       "    <tr>\n",
       "      <th>2</th>\n",
       "      <td>0.000</td>\n",
       "      <td>0.0</td>\n",
       "    </tr>\n",
       "    <tr>\n",
       "      <th>3</th>\n",
       "      <td>0.000</td>\n",
       "      <td>0.0</td>\n",
       "    </tr>\n",
       "    <tr>\n",
       "      <th>4</th>\n",
       "      <td>227.564</td>\n",
       "      <td>0.0</td>\n",
       "    </tr>\n",
       "  </tbody>\n",
       "</table>\n",
       "</div>"
      ],
      "text/plain": [
       "     stime  buttons\n",
       "0    0.000      0.0\n",
       "1    0.000      0.0\n",
       "2    0.000      0.0\n",
       "3    0.000      0.0\n",
       "4  227.564      0.0"
      ]
     },
     "execution_count": 113,
     "metadata": {},
     "output_type": "execute_result"
    }
   ],
   "source": [
    "df['discrete']['buttons'].head()"
   ]
  },
  {
   "cell_type": "code",
   "execution_count": 114,
   "metadata": {},
   "outputs": [
    {
     "data": {
      "text/html": [
       "<div>\n",
       "<style scoped>\n",
       "    .dataframe tbody tr th:only-of-type {\n",
       "        vertical-align: middle;\n",
       "    }\n",
       "\n",
       "    .dataframe tbody tr th {\n",
       "        vertical-align: top;\n",
       "    }\n",
       "\n",
       "    .dataframe thead th {\n",
       "        text-align: right;\n",
       "    }\n",
       "</style>\n",
       "<table border=\"1\" class=\"dataframe\">\n",
       "  <thead>\n",
       "    <tr style=\"text-align: right;\">\n",
       "      <th></th>\n",
       "      <th>stime</th>\n",
       "      <th>input</th>\n",
       "    </tr>\n",
       "  </thead>\n",
       "  <tbody>\n",
       "    <tr>\n",
       "      <th>0</th>\n",
       "      <td>0.000</td>\n",
       "      <td>127.0</td>\n",
       "    </tr>\n",
       "    <tr>\n",
       "      <th>1</th>\n",
       "      <td>0.000</td>\n",
       "      <td>127.0</td>\n",
       "    </tr>\n",
       "    <tr>\n",
       "      <th>2</th>\n",
       "      <td>0.000</td>\n",
       "      <td>127.0</td>\n",
       "    </tr>\n",
       "    <tr>\n",
       "      <th>3</th>\n",
       "      <td>0.000</td>\n",
       "      <td>127.0</td>\n",
       "    </tr>\n",
       "    <tr>\n",
       "      <th>4</th>\n",
       "      <td>227.564</td>\n",
       "      <td>127.0</td>\n",
       "    </tr>\n",
       "  </tbody>\n",
       "</table>\n",
       "</div>"
      ],
      "text/plain": [
       "     stime  input\n",
       "0    0.000  127.0\n",
       "1    0.000  127.0\n",
       "2    0.000  127.0\n",
       "3    0.000  127.0\n",
       "4  227.564  127.0"
      ]
     },
     "execution_count": 114,
     "metadata": {},
     "output_type": "execute_result"
    }
   ],
   "source": [
    "df['discrete']['inputs'].head()"
   ]
  },
  {
   "cell_type": "code",
   "execution_count": 115,
   "metadata": {},
   "outputs": [
    {
     "data": {
      "text/html": [
       "<div>\n",
       "<style scoped>\n",
       "    .dataframe tbody tr th:only-of-type {\n",
       "        vertical-align: middle;\n",
       "    }\n",
       "\n",
       "    .dataframe tbody tr th {\n",
       "        vertical-align: top;\n",
       "    }\n",
       "\n",
       "    .dataframe thead th {\n",
       "        text-align: right;\n",
       "    }\n",
       "</style>\n",
       "<table border=\"1\" class=\"dataframe\">\n",
       "  <thead>\n",
       "    <tr style=\"text-align: right;\">\n",
       "      <th></th>\n",
       "      <th>eye</th>\n",
       "      <th>stime</th>\n",
       "      <th>etime</th>\n",
       "      <th>axp</th>\n",
       "      <th>ayp</th>\n",
       "    </tr>\n",
       "  </thead>\n",
       "  <tbody>\n",
       "    <tr>\n",
       "      <th>0</th>\n",
       "      <td>RIGHT_EYE</td>\n",
       "      <td>0.004</td>\n",
       "      <td>0.074</td>\n",
       "      <td>981.400024</td>\n",
       "      <td>206.100006</td>\n",
       "    </tr>\n",
       "    <tr>\n",
       "      <th>1</th>\n",
       "      <td>RIGHT_EYE</td>\n",
       "      <td>0.610</td>\n",
       "      <td>0.658</td>\n",
       "      <td>1032.400024</td>\n",
       "      <td>42.299999</td>\n",
       "    </tr>\n",
       "    <tr>\n",
       "      <th>2</th>\n",
       "      <td>RIGHT_EYE</td>\n",
       "      <td>0.672</td>\n",
       "      <td>0.742</td>\n",
       "      <td>1016.299988</td>\n",
       "      <td>98.000000</td>\n",
       "    </tr>\n",
       "    <tr>\n",
       "      <th>3</th>\n",
       "      <td>RIGHT_EYE</td>\n",
       "      <td>0.788</td>\n",
       "      <td>1.042</td>\n",
       "      <td>884.200012</td>\n",
       "      <td>281.299988</td>\n",
       "    </tr>\n",
       "    <tr>\n",
       "      <th>4</th>\n",
       "      <td>RIGHT_EYE</td>\n",
       "      <td>1.074</td>\n",
       "      <td>1.336</td>\n",
       "      <td>964.900024</td>\n",
       "      <td>359.600006</td>\n",
       "    </tr>\n",
       "  </tbody>\n",
       "</table>\n",
       "</div>"
      ],
      "text/plain": [
       "         eye  stime  etime          axp         ayp\n",
       "0  RIGHT_EYE  0.004  0.074   981.400024  206.100006\n",
       "1  RIGHT_EYE  0.610  0.658  1032.400024   42.299999\n",
       "2  RIGHT_EYE  0.672  0.742  1016.299988   98.000000\n",
       "3  RIGHT_EYE  0.788  1.042   884.200012  281.299988\n",
       "4  RIGHT_EYE  1.074  1.336   964.900024  359.600006"
      ]
     },
     "execution_count": 115,
     "metadata": {},
     "output_type": "execute_result"
    }
   ],
   "source": [
    "df['discrete']['fixations'].head()"
   ]
  },
  {
   "cell_type": "code",
   "execution_count": 116,
   "metadata": {},
   "outputs": [
    {
     "data": {
      "text/html": [
       "<div>\n",
       "<style scoped>\n",
       "    .dataframe tbody tr th:only-of-type {\n",
       "        vertical-align: middle;\n",
       "    }\n",
       "\n",
       "    .dataframe tbody tr th {\n",
       "        vertical-align: top;\n",
       "    }\n",
       "\n",
       "    .dataframe thead th {\n",
       "        text-align: right;\n",
       "    }\n",
       "</style>\n",
       "<table border=\"1\" class=\"dataframe\">\n",
       "  <thead>\n",
       "    <tr style=\"text-align: right;\">\n",
       "      <th></th>\n",
       "      <th>eye</th>\n",
       "      <th>stime</th>\n",
       "      <th>etime</th>\n",
       "    </tr>\n",
       "  </thead>\n",
       "  <tbody>\n",
       "    <tr>\n",
       "      <th>0</th>\n",
       "      <td>RIGHT_EYE</td>\n",
       "      <td>0.196</td>\n",
       "      <td>0.410</td>\n",
       "    </tr>\n",
       "    <tr>\n",
       "      <th>1</th>\n",
       "      <td>RIGHT_EYE</td>\n",
       "      <td>5.926</td>\n",
       "      <td>6.282</td>\n",
       "    </tr>\n",
       "    <tr>\n",
       "      <th>2</th>\n",
       "      <td>RIGHT_EYE</td>\n",
       "      <td>6.904</td>\n",
       "      <td>7.932</td>\n",
       "    </tr>\n",
       "    <tr>\n",
       "      <th>3</th>\n",
       "      <td>RIGHT_EYE</td>\n",
       "      <td>8.594</td>\n",
       "      <td>8.734</td>\n",
       "    </tr>\n",
       "    <tr>\n",
       "      <th>4</th>\n",
       "      <td>RIGHT_EYE</td>\n",
       "      <td>9.300</td>\n",
       "      <td>9.662</td>\n",
       "    </tr>\n",
       "  </tbody>\n",
       "</table>\n",
       "</div>"
      ],
      "text/plain": [
       "         eye  stime  etime\n",
       "0  RIGHT_EYE  0.196  0.410\n",
       "1  RIGHT_EYE  5.926  6.282\n",
       "2  RIGHT_EYE  6.904  7.932\n",
       "3  RIGHT_EYE  8.594  8.734\n",
       "4  RIGHT_EYE  9.300  9.662"
      ]
     },
     "execution_count": 116,
     "metadata": {},
     "output_type": "execute_result"
    }
   ],
   "source": [
    "df['discrete']['blinks'].head()"
   ]
  },
  {
   "cell_type": "code",
   "execution_count": 117,
   "metadata": {},
   "outputs": [
    {
     "data": {
      "text/html": [
       "<div>\n",
       "<style scoped>\n",
       "    .dataframe tbody tr th:only-of-type {\n",
       "        vertical-align: middle;\n",
       "    }\n",
       "\n",
       "    .dataframe tbody tr th {\n",
       "        vertical-align: top;\n",
       "    }\n",
       "\n",
       "    .dataframe thead th {\n",
       "        text-align: right;\n",
       "    }\n",
       "</style>\n",
       "<table border=\"1\" class=\"dataframe\">\n",
       "  <thead>\n",
       "    <tr style=\"text-align: right;\">\n",
       "      <th></th>\n",
       "      <th>eye</th>\n",
       "      <th>stime</th>\n",
       "      <th>etime</th>\n",
       "      <th>sxp</th>\n",
       "      <th>syp</th>\n",
       "      <th>exp</th>\n",
       "      <th>eyp</th>\n",
       "      <th>pv</th>\n",
       "    </tr>\n",
       "  </thead>\n",
       "  <tbody>\n",
       "    <tr>\n",
       "      <th>0</th>\n",
       "      <td>RIGHT_EYE</td>\n",
       "      <td>0.076</td>\n",
       "      <td>0.608</td>\n",
       "      <td>973.799988</td>\n",
       "      <td>199.399994</td>\n",
       "      <td>1032.000000</td>\n",
       "      <td>47.900002</td>\n",
       "      <td>2726.500000</td>\n",
       "    </tr>\n",
       "    <tr>\n",
       "      <th>1</th>\n",
       "      <td>RIGHT_EYE</td>\n",
       "      <td>0.660</td>\n",
       "      <td>0.670</td>\n",
       "      <td>1032.300049</td>\n",
       "      <td>39.200001</td>\n",
       "      <td>1029.400024</td>\n",
       "      <td>56.400002</td>\n",
       "      <td>39.799999</td>\n",
       "    </tr>\n",
       "    <tr>\n",
       "      <th>2</th>\n",
       "      <td>RIGHT_EYE</td>\n",
       "      <td>0.744</td>\n",
       "      <td>0.786</td>\n",
       "      <td>1013.900024</td>\n",
       "      <td>113.900002</td>\n",
       "      <td>865.500000</td>\n",
       "      <td>260.899994</td>\n",
       "      <td>154.699997</td>\n",
       "    </tr>\n",
       "    <tr>\n",
       "      <th>3</th>\n",
       "      <td>RIGHT_EYE</td>\n",
       "      <td>1.044</td>\n",
       "      <td>1.072</td>\n",
       "      <td>896.000000</td>\n",
       "      <td>286.899994</td>\n",
       "      <td>961.599976</td>\n",
       "      <td>341.799988</td>\n",
       "      <td>76.500000</td>\n",
       "    </tr>\n",
       "    <tr>\n",
       "      <th>4</th>\n",
       "      <td>RIGHT_EYE</td>\n",
       "      <td>1.338</td>\n",
       "      <td>1.380</td>\n",
       "      <td>971.700012</td>\n",
       "      <td>374.399994</td>\n",
       "      <td>1087.900024</td>\n",
       "      <td>576.500000</td>\n",
       "      <td>141.699997</td>\n",
       "    </tr>\n",
       "  </tbody>\n",
       "</table>\n",
       "</div>"
      ],
      "text/plain": [
       "         eye  stime  etime          sxp         syp          exp         eyp  \\\n",
       "0  RIGHT_EYE  0.076  0.608   973.799988  199.399994  1032.000000   47.900002   \n",
       "1  RIGHT_EYE  0.660  0.670  1032.300049   39.200001  1029.400024   56.400002   \n",
       "2  RIGHT_EYE  0.744  0.786  1013.900024  113.900002   865.500000  260.899994   \n",
       "3  RIGHT_EYE  1.044  1.072   896.000000  286.899994   961.599976  341.799988   \n",
       "4  RIGHT_EYE  1.338  1.380   971.700012  374.399994  1087.900024  576.500000   \n",
       "\n",
       "            pv  \n",
       "0  2726.500000  \n",
       "1    39.799999  \n",
       "2   154.699997  \n",
       "3    76.500000  \n",
       "4   141.699997  "
      ]
     },
     "execution_count": 117,
     "metadata": {},
     "output_type": "execute_result"
    }
   ],
   "source": [
    "df['discrete']['saccades'].head()"
   ]
  },
  {
   "cell_type": "markdown",
   "metadata": {},
   "source": [
    "### example: average data sampled every second and plot hetamap"
   ]
  },
  {
   "cell_type": "code",
   "execution_count": 157,
   "metadata": {},
   "outputs": [
    {
     "data": {
      "text/html": [
       "<div>\n",
       "<style scoped>\n",
       "    .dataframe tbody tr th:only-of-type {\n",
       "        vertical-align: middle;\n",
       "    }\n",
       "\n",
       "    .dataframe tbody tr th {\n",
       "        vertical-align: top;\n",
       "    }\n",
       "\n",
       "    .dataframe thead th {\n",
       "        text-align: right;\n",
       "    }\n",
       "</style>\n",
       "<table border=\"1\" class=\"dataframe\">\n",
       "  <thead>\n",
       "    <tr style=\"text-align: right;\">\n",
       "      <th></th>\n",
       "      <th>xpos</th>\n",
       "      <th>ypos</th>\n",
       "      <th>ps</th>\n",
       "      <th>time</th>\n",
       "    </tr>\n",
       "  </thead>\n",
       "  <tbody>\n",
       "    <tr>\n",
       "      <th>0</th>\n",
       "      <td>989.299988</td>\n",
       "      <td>207.800003</td>\n",
       "      <td>1941.0</td>\n",
       "      <td>0.000</td>\n",
       "    </tr>\n",
       "    <tr>\n",
       "      <th>1</th>\n",
       "      <td>989.700012</td>\n",
       "      <td>207.800003</td>\n",
       "      <td>1942.0</td>\n",
       "      <td>0.002</td>\n",
       "    </tr>\n",
       "    <tr>\n",
       "      <th>2</th>\n",
       "      <td>989.400024</td>\n",
       "      <td>207.899994</td>\n",
       "      <td>1943.0</td>\n",
       "      <td>0.004</td>\n",
       "    </tr>\n",
       "    <tr>\n",
       "      <th>3</th>\n",
       "      <td>989.200012</td>\n",
       "      <td>207.600006</td>\n",
       "      <td>1942.0</td>\n",
       "      <td>0.006</td>\n",
       "    </tr>\n",
       "    <tr>\n",
       "      <th>4</th>\n",
       "      <td>989.000000</td>\n",
       "      <td>207.199997</td>\n",
       "      <td>1942.0</td>\n",
       "      <td>0.008</td>\n",
       "    </tr>\n",
       "  </tbody>\n",
       "</table>\n",
       "</div>"
      ],
      "text/plain": [
       "         xpos        ypos      ps   time\n",
       "0  989.299988  207.800003  1941.0  0.000\n",
       "1  989.700012  207.800003  1942.0  0.002\n",
       "2  989.400024  207.899994  1943.0  0.004\n",
       "3  989.200012  207.600006  1942.0  0.006\n",
       "4  989.000000  207.199997  1942.0  0.008"
      ]
     },
     "execution_count": 157,
     "metadata": {},
     "output_type": "execute_result"
    }
   ],
   "source": [
    "# data wrangling\n",
    "data = df['samples'].copy()\n",
    "data['time'] = edf['times']\n",
    "data.head()"
   ]
  },
  {
   "cell_type": "code",
   "execution_count": 158,
   "metadata": {},
   "outputs": [
    {
     "data": {
      "text/html": [
       "<div>\n",
       "<style scoped>\n",
       "    .dataframe tbody tr th:only-of-type {\n",
       "        vertical-align: middle;\n",
       "    }\n",
       "\n",
       "    .dataframe tbody tr th {\n",
       "        vertical-align: top;\n",
       "    }\n",
       "\n",
       "    .dataframe thead th {\n",
       "        text-align: right;\n",
       "    }\n",
       "</style>\n",
       "<table border=\"1\" class=\"dataframe\">\n",
       "  <thead>\n",
       "    <tr style=\"text-align: right;\">\n",
       "      <th></th>\n",
       "      <th>time_sec</th>\n",
       "      <th>xpos</th>\n",
       "      <th>ypos</th>\n",
       "      <th>ps</th>\n",
       "    </tr>\n",
       "  </thead>\n",
       "  <tbody>\n",
       "    <tr>\n",
       "      <th>0</th>\n",
       "      <td>0</td>\n",
       "      <td>942.861990</td>\n",
       "      <td>356.642092</td>\n",
       "      <td>1468.608</td>\n",
       "    </tr>\n",
       "    <tr>\n",
       "      <th>1</th>\n",
       "      <td>1</td>\n",
       "      <td>1039.372600</td>\n",
       "      <td>510.348400</td>\n",
       "      <td>2380.128</td>\n",
       "    </tr>\n",
       "    <tr>\n",
       "      <th>2</th>\n",
       "      <td>2</td>\n",
       "      <td>1248.172801</td>\n",
       "      <td>1025.724801</td>\n",
       "      <td>3004.118</td>\n",
       "    </tr>\n",
       "    <tr>\n",
       "      <th>3</th>\n",
       "      <td>3</td>\n",
       "      <td>786.496401</td>\n",
       "      <td>378.939000</td>\n",
       "      <td>1697.684</td>\n",
       "    </tr>\n",
       "    <tr>\n",
       "      <th>4</th>\n",
       "      <td>4</td>\n",
       "      <td>901.710799</td>\n",
       "      <td>437.836400</td>\n",
       "      <td>1743.234</td>\n",
       "    </tr>\n",
       "  </tbody>\n",
       "</table>\n",
       "</div>"
      ],
      "text/plain": [
       "   time_sec         xpos         ypos        ps\n",
       "0         0   942.861990   356.642092  1468.608\n",
       "1         1  1039.372600   510.348400  2380.128\n",
       "2         2  1248.172801  1025.724801  3004.118\n",
       "3         3   786.496401   378.939000  1697.684\n",
       "4         4   901.710799   437.836400  1743.234"
      ]
     },
     "execution_count": 158,
     "metadata": {},
     "output_type": "execute_result"
    }
   ],
   "source": [
    "# convert time to integer to represent each second\n",
    "data['time_sec'] = data['time'].astype(int) # always rounding down\n",
    "\n",
    "# group by time_sec and calculate the mean for 'xpos', 'ypos', 'pupil'\n",
    "data_grouped = data.groupby('time_sec')[['xpos', 'ypos', 'ps']].mean().reset_index()\n",
    "data_grouped = data_grouped.dropna()\n",
    "data_grouped.head()"
   ]
  },
  {
   "cell_type": "code",
   "execution_count": 159,
   "metadata": {},
   "outputs": [
    {
     "data": {
      "text/plain": [
       "<matplotlib.colorbar.Colorbar at 0x14c905100>"
      ]
     },
     "execution_count": 159,
     "metadata": {},
     "output_type": "execute_result"
    },
    {
     "data": {
      "image/png": "[encoded data removed]",
      "text/plain": [
       "<Figure size 640x480 with 2 Axes>"
      ]
     },
     "metadata": {},
     "output_type": "display_data"
    }
   ],
   "source": [
    "# create 2D array for x and y positions\n",
    "heatmap, xedges, yedges = np.histogram2d(data_grouped['xpos'], data_grouped['ypos'], bins=50)\n",
    "screen_coords = edf['info']['screen_coords']\n",
    "\n",
    "# Plot the heatmap using imshow\n",
    "plt.imshow(heatmap.T, origin='lower', cmap='viridis',\n",
    "           extent=[0, screen_coords[0], 0, screen_coords[1]])\n",
    "plt.colorbar(label='Count')\n",
    "\n",
    "# note: the heatmap is not corrected with calibration info"
   ]
  }
 ],
 "metadata": {
  "kernelspec": {
   "display_name": "myenv",
   "language": "python",
   "name": "python3"
  },
  "language_info": {
   "codemirror_mode": {
    "name": "ipython",
    "version": 3
   },
   "file_extension": ".py",
   "mimetype": "text/x-python",
   "name": "python",
   "nbconvert_exporter": "python",
   "pygments_lexer": "ipython3",
   "version": "3.12.2"
  }
 },
 "nbformat": 4,
 "nbformat_minor": 2
}
