{
 "cells": [
  {
   "cell_type": "code",
   "execution_count": 2,
   "id": "b7786a6b-9454-4560-90b6-66c11639cf20",
   "metadata": {},
   "outputs": [],
   "source": [
    "import os\n",
    "import pandas as pd\n",
    "import matplotlib.pyplot as plt\n",
    "import numpy as np\n",
    "import eyelinkio\n",
    "\n",
    "from visualeyes.define_aoi import define_aoi"
   ]
  },
  {
   "cell_type": "code",
   "execution_count": 22,
   "id": "fd7bb45d-ae21-42e5-935c-0e23623e2b2f",
   "metadata": {},
   "outputs": [],
   "source": [
    "import pathlib\n"
   ]
  },
  {
   "cell_type": "code",
   "execution_count": 26,
   "id": "cdf4004b-d0bb-4083-b030-af865db8bea6",
   "metadata": {},
   "outputs": [
    {
     "data": {
      "text/plain": [
       "'/Users/kenziepaige/Classes/CSE583/visualEyes/tests'"
      ]
     },
     "execution_count": 26,
     "metadata": {},
     "output_type": "execute_result"
    }
   ],
   "source": [
    "os.getcwd()"
   ]
  },
  {
   "cell_type": "code",
   "execution_count": 17,
   "id": "8683f7a8-c222-4d30-893a-507c3d867458",
   "metadata": {},
   "outputs": [],
   "source": [
    "edf_path = '../data/test_file1.edf'\n",
    "\n",
    "edf = eyelinkio.read_edf(edf_path)\n",
    "\n",
    "screen_coords = edf['info']['screen_coords']\n",
    "screen_width = int(screen_coords[1])\n",
    "screen_height = int(screen_coords[0])\n",
    "\n",
    "aoi_definitions = [{'shape':'rectangle', 'coordinates': ('462','590', '563', '691')}]\n",
    "\n",
    "mask = define_aoi(screen_width, screen_height, aoi_definitions)\n"
   ]
  }
 ],
 "metadata": {
  "kernelspec": {
   "display_name": "Python [conda env:vizeyes]",
   "language": "python",
   "name": "conda-env-vizeyes-py"
  },
  "language_info": {
   "codemirror_mode": {
    "name": "ipython",
    "version": 3
   },
   "file_extension": ".py",
   "mimetype": "text/x-python",
   "name": "python",
   "nbconvert_exporter": "python",
   "pygments_lexer": "ipython3",
   "version": "3.12.2"
  }
 },
 "nbformat": 4,
 "nbformat_minor": 5
}
